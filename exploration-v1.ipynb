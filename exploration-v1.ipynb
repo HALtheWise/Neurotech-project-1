{
 "cells": [
  {
   "cell_type": "code",
   "execution_count": 1,
   "metadata": {},
   "outputs": [],
   "source": [
    "%matplotlib inline\n",
    "\n",
    "import numpy as np\n",
    "import matplotlib.pyplot as plt\n",
    "import pandas as pd\n",
    "import os\n",
    "\n",
    "%run 'parse.ipynb'"
   ]
  },
  {
   "cell_type": "markdown",
   "metadata": {},
   "source": [
    "# Load data"
   ]
  },
  {
   "cell_type": "code",
   "execution_count": 2,
   "metadata": {},
   "outputs": [],
   "source": [
    "datadir = 'Behavioral-Analyzed-Data/training/'"
   ]
  },
  {
   "cell_type": "code",
   "execution_count": 3,
   "metadata": {},
   "outputs": [
    {
     "data": {
      "text/plain": [
       "20"
      ]
     },
     "execution_count": 3,
     "metadata": {},
     "output_type": "execute_result"
    }
   ],
   "source": [
    "folders=[datadir+s for s in os.listdir(datadir) if len(s) <= 2]\n",
    "len(folders)"
   ]
  },
  {
   "cell_type": "code",
   "execution_count": 4,
   "metadata": {},
   "outputs": [
    {
     "data": {
      "text/html": [
       "<div>\n",
       "<style>\n",
       "    .dataframe thead tr:only-child th {\n",
       "        text-align: right;\n",
       "    }\n",
       "\n",
       "    .dataframe thead th {\n",
       "        text-align: left;\n",
       "    }\n",
       "\n",
       "    .dataframe tbody tr th {\n",
       "        vertical-align: top;\n",
       "    }\n",
       "</style>\n",
       "<table border=\"1\" class=\"dataframe\">\n",
       "  <thead>\n",
       "    <tr style=\"text-align: right;\">\n",
       "      <th></th>\n",
       "      <th>folder</th>\n",
       "    </tr>\n",
       "  </thead>\n",
       "  <tbody>\n",
       "    <tr>\n",
       "      <th>1</th>\n",
       "      <td>Behavioral-Analyzed-Data/training/1</td>\n",
       "    </tr>\n",
       "    <tr>\n",
       "      <th>2</th>\n",
       "      <td>Behavioral-Analyzed-Data/training/2</td>\n",
       "    </tr>\n",
       "    <tr>\n",
       "      <th>3</th>\n",
       "      <td>Behavioral-Analyzed-Data/training/3</td>\n",
       "    </tr>\n",
       "    <tr>\n",
       "      <th>4</th>\n",
       "      <td>Behavioral-Analyzed-Data/training/4</td>\n",
       "    </tr>\n",
       "    <tr>\n",
       "      <th>5</th>\n",
       "      <td>Behavioral-Analyzed-Data/training/5</td>\n",
       "    </tr>\n",
       "    <tr>\n",
       "      <th>6</th>\n",
       "      <td>Behavioral-Analyzed-Data/training/6</td>\n",
       "    </tr>\n",
       "    <tr>\n",
       "      <th>7</th>\n",
       "      <td>Behavioral-Analyzed-Data/training/7</td>\n",
       "    </tr>\n",
       "    <tr>\n",
       "      <th>8</th>\n",
       "      <td>Behavioral-Analyzed-Data/training/8</td>\n",
       "    </tr>\n",
       "    <tr>\n",
       "      <th>9</th>\n",
       "      <td>Behavioral-Analyzed-Data/training/9</td>\n",
       "    </tr>\n",
       "    <tr>\n",
       "      <th>10</th>\n",
       "      <td>Behavioral-Analyzed-Data/training/10</td>\n",
       "    </tr>\n",
       "    <tr>\n",
       "      <th>11</th>\n",
       "      <td>Behavioral-Analyzed-Data/training/11</td>\n",
       "    </tr>\n",
       "    <tr>\n",
       "      <th>12</th>\n",
       "      <td>Behavioral-Analyzed-Data/training/12</td>\n",
       "    </tr>\n",
       "    <tr>\n",
       "      <th>13</th>\n",
       "      <td>Behavioral-Analyzed-Data/training/13</td>\n",
       "    </tr>\n",
       "    <tr>\n",
       "      <th>14</th>\n",
       "      <td>Behavioral-Analyzed-Data/training/14</td>\n",
       "    </tr>\n",
       "    <tr>\n",
       "      <th>15</th>\n",
       "      <td>Behavioral-Analyzed-Data/training/15</td>\n",
       "    </tr>\n",
       "    <tr>\n",
       "      <th>16</th>\n",
       "      <td>Behavioral-Analyzed-Data/training/16</td>\n",
       "    </tr>\n",
       "    <tr>\n",
       "      <th>17</th>\n",
       "      <td>Behavioral-Analyzed-Data/training/17</td>\n",
       "    </tr>\n",
       "    <tr>\n",
       "      <th>18</th>\n",
       "      <td>Behavioral-Analyzed-Data/training/18</td>\n",
       "    </tr>\n",
       "    <tr>\n",
       "      <th>19</th>\n",
       "      <td>Behavioral-Analyzed-Data/training/19</td>\n",
       "    </tr>\n",
       "    <tr>\n",
       "      <th>20</th>\n",
       "      <td>Behavioral-Analyzed-Data/training/20</td>\n",
       "    </tr>\n",
       "  </tbody>\n",
       "</table>\n",
       "</div>"
      ],
      "text/plain": [
       "                                  folder\n",
       "1    Behavioral-Analyzed-Data/training/1\n",
       "2    Behavioral-Analyzed-Data/training/2\n",
       "3    Behavioral-Analyzed-Data/training/3\n",
       "4    Behavioral-Analyzed-Data/training/4\n",
       "5    Behavioral-Analyzed-Data/training/5\n",
       "6    Behavioral-Analyzed-Data/training/6\n",
       "7    Behavioral-Analyzed-Data/training/7\n",
       "8    Behavioral-Analyzed-Data/training/8\n",
       "9    Behavioral-Analyzed-Data/training/9\n",
       "10  Behavioral-Analyzed-Data/training/10\n",
       "11  Behavioral-Analyzed-Data/training/11\n",
       "12  Behavioral-Analyzed-Data/training/12\n",
       "13  Behavioral-Analyzed-Data/training/13\n",
       "14  Behavioral-Analyzed-Data/training/14\n",
       "15  Behavioral-Analyzed-Data/training/15\n",
       "16  Behavioral-Analyzed-Data/training/16\n",
       "17  Behavioral-Analyzed-Data/training/17\n",
       "18  Behavioral-Analyzed-Data/training/18\n",
       "19  Behavioral-Analyzed-Data/training/19\n",
       "20  Behavioral-Analyzed-Data/training/20"
      ]
     },
     "execution_count": 4,
     "metadata": {},
     "output_type": "execute_result"
    }
   ],
   "source": [
    "subjects = pd.DataFrame(folders,columns=['folder'])\n",
    "subjects.index = [int(s.split('/')[-1]) for s in subjects.folder]\n",
    "subjects.sort_index(inplace=True)\n",
    "subjects"
   ]
  },
  {
   "cell_type": "code",
   "execution_count": 5,
   "metadata": {},
   "outputs": [],
   "source": [
    "subj = doparse(1)"
   ]
  },
  {
   "cell_type": "code",
   "execution_count": 6,
   "metadata": {},
   "outputs": [
    {
     "data": {
      "text/html": [
       "<div>\n",
       "<style>\n",
       "    .dataframe thead tr:only-child th {\n",
       "        text-align: right;\n",
       "    }\n",
       "\n",
       "    .dataframe thead th {\n",
       "        text-align: left;\n",
       "    }\n",
       "\n",
       "    .dataframe tbody tr th {\n",
       "        vertical-align: top;\n",
       "    }\n",
       "</style>\n",
       "<table border=\"1\" class=\"dataframe\">\n",
       "  <thead>\n",
       "    <tr style=\"text-align: right;\">\n",
       "      <th></th>\n",
       "      <th>folder</th>\n",
       "      <th>data</th>\n",
       "    </tr>\n",
       "  </thead>\n",
       "  <tbody>\n",
       "    <tr>\n",
       "      <th>1</th>\n",
       "      <td>Behavioral-Analyzed-Data/training/1</td>\n",
       "      <td>&lt;__main__.Subject object at 0x7f5c3457f690&gt;</td>\n",
       "    </tr>\n",
       "    <tr>\n",
       "      <th>2</th>\n",
       "      <td>Behavioral-Analyzed-Data/training/2</td>\n",
       "      <td>&lt;__main__.Subject object at 0x7f5c0fd8c6d0&gt;</td>\n",
       "    </tr>\n",
       "    <tr>\n",
       "      <th>3</th>\n",
       "      <td>Behavioral-Analyzed-Data/training/3</td>\n",
       "      <td>&lt;__main__.Subject object at 0x7f5c0fcc8110&gt;</td>\n",
       "    </tr>\n",
       "    <tr>\n",
       "      <th>4</th>\n",
       "      <td>Behavioral-Analyzed-Data/training/4</td>\n",
       "      <td>&lt;__main__.Subject object at 0x7f5c0fcc8290&gt;</td>\n",
       "    </tr>\n",
       "    <tr>\n",
       "      <th>5</th>\n",
       "      <td>Behavioral-Analyzed-Data/training/5</td>\n",
       "      <td>&lt;__main__.Subject object at 0x7f5c0fccb550&gt;</td>\n",
       "    </tr>\n",
       "  </tbody>\n",
       "</table>\n",
       "</div>"
      ],
      "text/plain": [
       "                                folder  \\\n",
       "1  Behavioral-Analyzed-Data/training/1   \n",
       "2  Behavioral-Analyzed-Data/training/2   \n",
       "3  Behavioral-Analyzed-Data/training/3   \n",
       "4  Behavioral-Analyzed-Data/training/4   \n",
       "5  Behavioral-Analyzed-Data/training/5   \n",
       "\n",
       "                                          data  \n",
       "1  <__main__.Subject object at 0x7f5c3457f690>  \n",
       "2  <__main__.Subject object at 0x7f5c0fd8c6d0>  \n",
       "3  <__main__.Subject object at 0x7f5c0fcc8110>  \n",
       "4  <__main__.Subject object at 0x7f5c0fcc8290>  \n",
       "5  <__main__.Subject object at 0x7f5c0fccb550>  "
      ]
     },
     "execution_count": 6,
     "metadata": {},
     "output_type": "execute_result"
    }
   ],
   "source": [
    "subjects['data'] = [doparse(data_type = 'training', subj=i) for i in subjects.index]\n",
    "subjects.head()"
   ]
  },
  {
   "cell_type": "markdown",
   "metadata": {},
   "source": [
    "# Dimensionality reduction"
   ]
  },
  {
   "cell_type": "code",
   "execution_count": 7,
   "metadata": {},
   "outputs": [],
   "source": [
    "# A Reducer takes in a Subject object, defined above, and a bool \"isPre\"\n",
    "# and returns a numpy vector.\n",
    "# Eventually, it will have performed useful reduction in the process."
   ]
  },
  {
   "cell_type": "code",
   "execution_count": 8,
   "metadata": {},
   "outputs": [],
   "source": [
    "def nullRSreducer(subj, isPre = True):\n",
    "    if isPre:\n",
    "        return subj.Pre_RS.values.flatten()\n",
    "    else:\n",
    "        return subj.Post_RS.values.flatten()"
   ]
  },
  {
   "cell_type": "code",
   "execution_count": 9,
   "metadata": {},
   "outputs": [],
   "source": [
    "def nullFSreducer(subj, isPre = True):\n",
    "    if isPre:\n",
    "        return subj.Pre_FS.values.flatten()\n",
    "    else:\n",
    "        return subj.Post_FS.values.flatten()"
   ]
  },
  {
   "cell_type": "markdown",
   "metadata": {},
   "source": [
    "# Similarity Matrices"
   ]
  },
  {
   "cell_type": "code",
   "execution_count": 10,
   "metadata": {},
   "outputs": [],
   "source": [
    "def dist_func(vect1, vect2):\n",
    "    return np.linalg.norm(vect1 - vect2)"
   ]
  },
  {
   "cell_type": "code",
   "execution_count": 11,
   "metadata": {},
   "outputs": [],
   "source": [
    "reducer = nullRSreducer"
   ]
  },
  {
   "cell_type": "code",
   "execution_count": 21,
   "metadata": {},
   "outputs": [
    {
     "data": {
      "text/html": [
       "<div>\n",
       "<style>\n",
       "    .dataframe thead tr:only-child th {\n",
       "        text-align: right;\n",
       "    }\n",
       "\n",
       "    .dataframe thead th {\n",
       "        text-align: left;\n",
       "    }\n",
       "\n",
       "    .dataframe tbody tr th {\n",
       "        vertical-align: top;\n",
       "    }\n",
       "</style>\n",
       "<table border=\"1\" class=\"dataframe\">\n",
       "  <thead>\n",
       "    <tr style=\"text-align: right;\">\n",
       "      <th></th>\n",
       "      <th>folder</th>\n",
       "      <th>data</th>\n",
       "      <th>reducedPre</th>\n",
       "      <th>reducedPost</th>\n",
       "    </tr>\n",
       "  </thead>\n",
       "  <tbody>\n",
       "    <tr>\n",
       "      <th>1</th>\n",
       "      <td>Behavioral-Analyzed-Data/training/1</td>\n",
       "      <td>&lt;__main__.Subject object at 0x7f5c3457f690&gt;</td>\n",
       "      <td>[1.0, 0.037691, 0.067593, 0.65412, 0.71272, -0...</td>\n",
       "      <td>[1.0, 0.36789, 0.28777, 0.54925, 0.90469, 0.20...</td>\n",
       "    </tr>\n",
       "    <tr>\n",
       "      <th>2</th>\n",
       "      <td>Behavioral-Analyzed-Data/training/2</td>\n",
       "      <td>&lt;__main__.Subject object at 0x7f5c0fd8c6d0&gt;</td>\n",
       "      <td>[1.0, 0.46527, 0.42208, 0.37324, 0.59924, 0.27...</td>\n",
       "      <td>[1.0, 0.20989, 0.43422, 0.27855, 0.68751, 0.28...</td>\n",
       "    </tr>\n",
       "    <tr>\n",
       "      <th>3</th>\n",
       "      <td>Behavioral-Analyzed-Data/training/3</td>\n",
       "      <td>&lt;__main__.Subject object at 0x7f5c0fcc8110&gt;</td>\n",
       "      <td>[1.0, -0.27003, -0.16193, 0.26029, 0.66118, -0...</td>\n",
       "      <td>[1.0, -0.082703, -0.05483, 0.34584, 0.47792, -...</td>\n",
       "    </tr>\n",
       "    <tr>\n",
       "      <th>4</th>\n",
       "      <td>Behavioral-Analyzed-Data/training/4</td>\n",
       "      <td>&lt;__main__.Subject object at 0x7f5c0fcc8290&gt;</td>\n",
       "      <td>[1.0, 0.068626, 0.14524, 0.48957, 0.5788, 0.18...</td>\n",
       "      <td>[1.0, 0.55927, 0.43173, 0.52971, 0.83218, 0.37...</td>\n",
       "    </tr>\n",
       "    <tr>\n",
       "      <th>5</th>\n",
       "      <td>Behavioral-Analyzed-Data/training/5</td>\n",
       "      <td>&lt;__main__.Subject object at 0x7f5c0fccb550&gt;</td>\n",
       "      <td>[1.0, -0.35069, 0.29533, 0.20036, 0.83152, -0....</td>\n",
       "      <td>[1.0, -0.11591, -0.065677, 0.22849, 0.8104, 0....</td>\n",
       "    </tr>\n",
       "  </tbody>\n",
       "</table>\n",
       "</div>"
      ],
      "text/plain": [
       "                                folder  \\\n",
       "1  Behavioral-Analyzed-Data/training/1   \n",
       "2  Behavioral-Analyzed-Data/training/2   \n",
       "3  Behavioral-Analyzed-Data/training/3   \n",
       "4  Behavioral-Analyzed-Data/training/4   \n",
       "5  Behavioral-Analyzed-Data/training/5   \n",
       "\n",
       "                                          data  \\\n",
       "1  <__main__.Subject object at 0x7f5c3457f690>   \n",
       "2  <__main__.Subject object at 0x7f5c0fd8c6d0>   \n",
       "3  <__main__.Subject object at 0x7f5c0fcc8110>   \n",
       "4  <__main__.Subject object at 0x7f5c0fcc8290>   \n",
       "5  <__main__.Subject object at 0x7f5c0fccb550>   \n",
       "\n",
       "                                          reducedPre  \\\n",
       "1  [1.0, 0.037691, 0.067593, 0.65412, 0.71272, -0...   \n",
       "2  [1.0, 0.46527, 0.42208, 0.37324, 0.59924, 0.27...   \n",
       "3  [1.0, -0.27003, -0.16193, 0.26029, 0.66118, -0...   \n",
       "4  [1.0, 0.068626, 0.14524, 0.48957, 0.5788, 0.18...   \n",
       "5  [1.0, -0.35069, 0.29533, 0.20036, 0.83152, -0....   \n",
       "\n",
       "                                         reducedPost  \n",
       "1  [1.0, 0.36789, 0.28777, 0.54925, 0.90469, 0.20...  \n",
       "2  [1.0, 0.20989, 0.43422, 0.27855, 0.68751, 0.28...  \n",
       "3  [1.0, -0.082703, -0.05483, 0.34584, 0.47792, -...  \n",
       "4  [1.0, 0.55927, 0.43173, 0.52971, 0.83218, 0.37...  \n",
       "5  [1.0, -0.11591, -0.065677, 0.22849, 0.8104, 0....  "
      ]
     },
     "execution_count": 21,
     "metadata": {},
     "output_type": "execute_result"
    }
   ],
   "source": [
    "subjects['reducedPre'] = [reducer(subj, True) for subj in subjects.data]\n",
    "subjects['reducedPost'] = [reducer(subj, False) for subj in subjects.data]\n",
    "subjects.head()\n",
    "# subjects"
   ]
  },
  {
   "cell_type": "code",
   "execution_count": 13,
   "metadata": {},
   "outputs": [
    {
     "data": {
      "text/plain": [
       "(77284,)"
      ]
     },
     "execution_count": 13,
     "metadata": {},
     "output_type": "execute_result"
    }
   ],
   "source": [
    "np.shape(subjects.reducedPost[2])"
   ]
  },
  {
   "cell_type": "code",
   "execution_count": 38,
   "metadata": {},
   "outputs": [
    {
     "name": "stdout",
     "output_type": "stream",
     "text": [
      "0 0\n",
      "1 0\n",
      "2 0\n",
      "3 0\n",
      "4 0\n",
      "5 0\n",
      "6 555\n",
      "7 0\n",
      "8 0\n",
      "9 0\n",
      "10 0\n",
      "11 0\n",
      "12 0\n",
      "13 0\n",
      "14 0\n",
      "15 0\n",
      "16 0\n",
      "17 0\n",
      "18 0\n",
      "19 0\n"
     ]
    }
   ],
   "source": [
    "for i, j in enumerate(subjects.reducedPre):\n",
    "    print i, np.count_nonzero(np.isnan(j))"
   ]
  },
  {
   "cell_type": "code",
   "execution_count": 49,
   "metadata": {},
   "outputs": [
    {
     "data": {
      "image/png": "[encoded data removed]",
      "text/plain": [
       "<matplotlib.figure.Figure at 0x7f5c0f350f90>"
      ]
     },
     "metadata": {},
     "output_type": "display_data"
    }
   ],
   "source": [
    "distMatrix = np.zeros([len(subjects), len(subjects)])\n",
    "for i, pre in enumerate(subjects.reducedPre):\n",
    "    for j, post in enumerate(subjects.reducedPost):\n",
    "        distMatrix[i, j] = dist_func(pre, post)\n",
    "\n",
    "distMatrix /= np.nanmax(distMatrix)\n",
    "\n",
    "cax = plt.matshow(distMatrix)\n",
    "\n",
    "plt.colorbar(cax)\n",
    "# plt.title('Correlation between incomming and outgoing scans')\n",
    "plt.xlabel('Post subject')\n",
    "plt.ylabel('Pre subject')\n",
    "\n",
    "plt.savefig('DistanceMap.png', dpi=500)"
   ]
  },
  {
   "cell_type": "markdown",
   "metadata": {},
   "source": [
    "# Directionality modelling"
   ]
  },
  {
   "cell_type": "code",
   "execution_count": null,
   "metadata": {},
   "outputs": [],
   "source": []
  },
  {
   "cell_type": "markdown",
   "metadata": {},
   "source": [
    "# Results"
   ]
  }
 ],
 "metadata": {
  "kernelspec": {
   "display_name": "Python 2",
   "language": "python",
   "name": "python2"
  },
  "language_info": {
   "codemirror_mode": {
    "name": "ipython",
    "version": 2
   },
   "file_extension": ".py",
   "mimetype": "text/x-python",
   "name": "python",
   "nbconvert_exporter": "python",
   "pygments_lexer": "ipython2",
   "version": "2.7.12"
  }
 },
 "nbformat": 4,
 "nbformat_minor": 2
}
