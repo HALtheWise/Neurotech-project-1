{
 "cells": [
  {
   "cell_type": "code",
   "execution_count": 1,
   "metadata": {},
   "outputs": [],
   "source": [
    "%matplotlib inline\n",
    "\n",
    "import numpy as np\n",
    "import matplotlib.pyplot as plt\n",
    "import pandas as pd\n",
    "import os\n",
    "\n",
    "%run 'parse.ipynb'"
   ]
  },
  {
   "cell_type": "markdown",
   "metadata": {},
   "source": [
    "# Load data"
   ]
  },
  {
   "cell_type": "code",
   "execution_count": 2,
   "metadata": {},
   "outputs": [],
   "source": [
    "datadir = 'Behavioral-Analyzed-Data/training/'"
   ]
  },
  {
   "cell_type": "code",
   "execution_count": 3,
   "metadata": {},
   "outputs": [
    {
     "data": {
      "text/plain": [
       "20"
      ]
     },
     "execution_count": 3,
     "metadata": {},
     "output_type": "execute_result"
    }
   ],
   "source": [
    "folders=[datadir+s for s in os.listdir(datadir) if len(s) <= 2]\n",
    "len(folders)"
   ]
  },
  {
   "cell_type": "code",
   "execution_count": 4,
   "metadata": {},
   "outputs": [
    {
     "data": {
      "text/html": [
       "<div>\n",
       "<style>\n",
       "    .dataframe thead tr:only-child th {\n",
       "        text-align: right;\n",
       "    }\n",
       "\n",
       "    .dataframe thead th {\n",
       "        text-align: left;\n",
       "    }\n",
       "\n",
       "    .dataframe tbody tr th {\n",
       "        vertical-align: top;\n",
       "    }\n",
       "</style>\n",
       "<table border=\"1\" class=\"dataframe\">\n",
       "  <thead>\n",
       "    <tr style=\"text-align: right;\">\n",
       "      <th></th>\n",
       "      <th>folder</th>\n",
       "    </tr>\n",
       "  </thead>\n",
       "  <tbody>\n",
       "    <tr>\n",
       "      <th>1</th>\n",
       "      <td>Behavioral-Analyzed-Data/training/1</td>\n",
       "    </tr>\n",
       "    <tr>\n",
       "      <th>2</th>\n",
       "      <td>Behavioral-Analyzed-Data/training/2</td>\n",
       "    </tr>\n",
       "    <tr>\n",
       "      <th>3</th>\n",
       "      <td>Behavioral-Analyzed-Data/training/3</td>\n",
       "    </tr>\n",
       "    <tr>\n",
       "      <th>4</th>\n",
       "      <td>Behavioral-Analyzed-Data/training/4</td>\n",
       "    </tr>\n",
       "    <tr>\n",
       "      <th>5</th>\n",
       "      <td>Behavioral-Analyzed-Data/training/5</td>\n",
       "    </tr>\n",
       "  </tbody>\n",
       "</table>\n",
       "</div>"
      ],
      "text/plain": [
       "                                folder\n",
       "1  Behavioral-Analyzed-Data/training/1\n",
       "2  Behavioral-Analyzed-Data/training/2\n",
       "3  Behavioral-Analyzed-Data/training/3\n",
       "4  Behavioral-Analyzed-Data/training/4\n",
       "5  Behavioral-Analyzed-Data/training/5"
      ]
     },
     "execution_count": 4,
     "metadata": {},
     "output_type": "execute_result"
    }
   ],
   "source": [
    "subjects = pd.DataFrame(folders,columns=['folder'])\n",
    "subjects.index = [int(s.split('/')[-1]) for s in subjects.folder]\n",
    "subjects.sort_index(inplace=True)\n",
    "subjects.head()"
   ]
  },
  {
   "cell_type": "code",
   "execution_count": 5,
   "metadata": {},
   "outputs": [],
   "source": [
    "subj = doparse(1)"
   ]
  },
  {
   "cell_type": "code",
   "execution_count": 6,
   "metadata": {},
   "outputs": [
    {
     "data": {
      "text/html": [
       "<div>\n",
       "<style>\n",
       "    .dataframe thead tr:only-child th {\n",
       "        text-align: right;\n",
       "    }\n",
       "\n",
       "    .dataframe thead th {\n",
       "        text-align: left;\n",
       "    }\n",
       "\n",
       "    .dataframe tbody tr th {\n",
       "        vertical-align: top;\n",
       "    }\n",
       "</style>\n",
       "<table border=\"1\" class=\"dataframe\">\n",
       "  <thead>\n",
       "    <tr style=\"text-align: right;\">\n",
       "      <th></th>\n",
       "      <th>folder</th>\n",
       "      <th>data</th>\n",
       "    </tr>\n",
       "  </thead>\n",
       "  <tbody>\n",
       "    <tr>\n",
       "      <th>1</th>\n",
       "      <td>Behavioral-Analyzed-Data/training/1</td>\n",
       "      <td>&lt;__main__.Subject object at 0x7f0ea4549410&gt;</td>\n",
       "    </tr>\n",
       "    <tr>\n",
       "      <th>2</th>\n",
       "      <td>Behavioral-Analyzed-Data/training/2</td>\n",
       "      <td>&lt;__main__.Subject object at 0x7f0e81b4be90&gt;</td>\n",
       "    </tr>\n",
       "    <tr>\n",
       "      <th>3</th>\n",
       "      <td>Behavioral-Analyzed-Data/training/3</td>\n",
       "      <td>&lt;__main__.Subject object at 0x7f0e81ca90d0&gt;</td>\n",
       "    </tr>\n",
       "    <tr>\n",
       "      <th>4</th>\n",
       "      <td>Behavioral-Analyzed-Data/training/4</td>\n",
       "      <td>&lt;__main__.Subject object at 0x7f0e81d000d0&gt;</td>\n",
       "    </tr>\n",
       "    <tr>\n",
       "      <th>5</th>\n",
       "      <td>Behavioral-Analyzed-Data/training/5</td>\n",
       "      <td>&lt;__main__.Subject object at 0x7f0e81cb1550&gt;</td>\n",
       "    </tr>\n",
       "  </tbody>\n",
       "</table>\n",
       "</div>"
      ],
      "text/plain": [
       "                                folder  \\\n",
       "1  Behavioral-Analyzed-Data/training/1   \n",
       "2  Behavioral-Analyzed-Data/training/2   \n",
       "3  Behavioral-Analyzed-Data/training/3   \n",
       "4  Behavioral-Analyzed-Data/training/4   \n",
       "5  Behavioral-Analyzed-Data/training/5   \n",
       "\n",
       "                                          data  \n",
       "1  <__main__.Subject object at 0x7f0ea4549410>  \n",
       "2  <__main__.Subject object at 0x7f0e81b4be90>  \n",
       "3  <__main__.Subject object at 0x7f0e81ca90d0>  \n",
       "4  <__main__.Subject object at 0x7f0e81d000d0>  \n",
       "5  <__main__.Subject object at 0x7f0e81cb1550>  "
      ]
     },
     "execution_count": 6,
     "metadata": {},
     "output_type": "execute_result"
    }
   ],
   "source": [
    "subjects['data'] = [doparse(data_type = 'training', subj=i) for i in subjects.index]\n",
    "subjects.head()"
   ]
  },
  {
   "cell_type": "markdown",
   "metadata": {},
   "source": [
    "# Dimensionality reduction"
   ]
  },
  {
   "cell_type": "code",
   "execution_count": 7,
   "metadata": {},
   "outputs": [],
   "source": [
    "# A Reducer takes in a Subject object, defined above, and a bool \"isPre\"\n",
    "# and returns a numpy vector.\n",
    "# Eventually, it will have performed useful reduction in the process."
   ]
  },
  {
   "cell_type": "code",
   "execution_count": 8,
   "metadata": {},
   "outputs": [],
   "source": [
    "def nullRSreducer(subj, isPre = True):\n",
    "    if isPre:\n",
    "        return subj.Pre_RS.values.flatten()\n",
    "    else:\n",
    "        return subj.Post_RS.values.flatten()"
   ]
  },
  {
   "cell_type": "code",
   "execution_count": 9,
   "metadata": {},
   "outputs": [],
   "source": [
    "def nullFSreducer(subj, isPre = True):\n",
    "    if isPre:\n",
    "        return subj.Pre_FS.values.flatten()\n",
    "    else:\n",
    "        return subj.Post_FS.values.flatten()"
   ]
  },
  {
   "cell_type": "markdown",
   "metadata": {},
   "source": [
    "# Similarity Matrices"
   ]
  },
  {
   "cell_type": "code",
   "execution_count": 10,
   "metadata": {},
   "outputs": [],
   "source": [
    "def dist_func(vect1, vect2):\n",
    "    return np.linalg.norm(vect1 - vect2)"
   ]
  },
  {
   "cell_type": "code",
   "execution_count": 11,
   "metadata": {},
   "outputs": [],
   "source": [
    "reducer = nullFSreducer"
   ]
  },
  {
   "cell_type": "code",
   "execution_count": 12,
   "metadata": {},
   "outputs": [
    {
     "data": {
      "text/html": [
       "<div>\n",
       "<style>\n",
       "    .dataframe thead tr:only-child th {\n",
       "        text-align: right;\n",
       "    }\n",
       "\n",
       "    .dataframe thead th {\n",
       "        text-align: left;\n",
       "    }\n",
       "\n",
       "    .dataframe tbody tr th {\n",
       "        vertical-align: top;\n",
       "    }\n",
       "</style>\n",
       "<table border=\"1\" class=\"dataframe\">\n",
       "  <thead>\n",
       "    <tr style=\"text-align: right;\">\n",
       "      <th></th>\n",
       "      <th>folder</th>\n",
       "      <th>data</th>\n",
       "      <th>reducedPre</th>\n",
       "      <th>reducedPost</th>\n",
       "    </tr>\n",
       "  </thead>\n",
       "  <tbody>\n",
       "    <tr>\n",
       "      <th>1</th>\n",
       "      <td>Behavioral-Analyzed-Data/training/1</td>\n",
       "      <td>&lt;__main__.Subject object at 0x7f0ea4549410&gt;</td>\n",
       "      <td>[0.0, 411.6548583, 245.835252436, 227.17283950...</td>\n",
       "      <td>[0.0, 438.531027467, 256.727595386, 340.524038...</td>\n",
       "    </tr>\n",
       "    <tr>\n",
       "      <th>2</th>\n",
       "      <td>Behavioral-Analyzed-Data/training/2</td>\n",
       "      <td>&lt;__main__.Subject object at 0x7f0e81b4be90&gt;</td>\n",
       "      <td>[0.0, 266.594594595, 83.2254616132, 87.4235924...</td>\n",
       "      <td>[0.0, 549.92690678, 86.6288461538, 118.7257844...</td>\n",
       "    </tr>\n",
       "    <tr>\n",
       "      <th>3</th>\n",
       "      <td>Behavioral-Analyzed-Data/training/3</td>\n",
       "      <td>&lt;__main__.Subject object at 0x7f0e81ca90d0&gt;</td>\n",
       "      <td>[0.0, 893.836875359, 209.549833095, 164.518681...</td>\n",
       "      <td>[0.0, 714.309027778, 115.080357143, 120.571847...</td>\n",
       "    </tr>\n",
       "    <tr>\n",
       "      <th>4</th>\n",
       "      <td>Behavioral-Analyzed-Data/training/4</td>\n",
       "      <td>&lt;__main__.Subject object at 0x7f0e81d000d0&gt;</td>\n",
       "      <td>[0.0, 370.537787514, 456.880110243, 251.801619...</td>\n",
       "      <td>[0.0, 730.798572157, 511.17877338, 271.5162548...</td>\n",
       "    </tr>\n",
       "    <tr>\n",
       "      <th>5</th>\n",
       "      <td>Behavioral-Analyzed-Data/training/5</td>\n",
       "      <td>&lt;__main__.Subject object at 0x7f0e81cb1550&gt;</td>\n",
       "      <td>[0.0, 744.692073171, 306.807620818, 136.982681...</td>\n",
       "      <td>[0.0, 702.096537251, 225.512285582, 110.604432...</td>\n",
       "    </tr>\n",
       "  </tbody>\n",
       "</table>\n",
       "</div>"
      ],
      "text/plain": [
       "                                folder  \\\n",
       "1  Behavioral-Analyzed-Data/training/1   \n",
       "2  Behavioral-Analyzed-Data/training/2   \n",
       "3  Behavioral-Analyzed-Data/training/3   \n",
       "4  Behavioral-Analyzed-Data/training/4   \n",
       "5  Behavioral-Analyzed-Data/training/5   \n",
       "\n",
       "                                          data  \\\n",
       "1  <__main__.Subject object at 0x7f0ea4549410>   \n",
       "2  <__main__.Subject object at 0x7f0e81b4be90>   \n",
       "3  <__main__.Subject object at 0x7f0e81ca90d0>   \n",
       "4  <__main__.Subject object at 0x7f0e81d000d0>   \n",
       "5  <__main__.Subject object at 0x7f0e81cb1550>   \n",
       "\n",
       "                                          reducedPre  \\\n",
       "1  [0.0, 411.6548583, 245.835252436, 227.17283950...   \n",
       "2  [0.0, 266.594594595, 83.2254616132, 87.4235924...   \n",
       "3  [0.0, 893.836875359, 209.549833095, 164.518681...   \n",
       "4  [0.0, 370.537787514, 456.880110243, 251.801619...   \n",
       "5  [0.0, 744.692073171, 306.807620818, 136.982681...   \n",
       "\n",
       "                                         reducedPost  \n",
       "1  [0.0, 438.531027467, 256.727595386, 340.524038...  \n",
       "2  [0.0, 549.92690678, 86.6288461538, 118.7257844...  \n",
       "3  [0.0, 714.309027778, 115.080357143, 120.571847...  \n",
       "4  [0.0, 730.798572157, 511.17877338, 271.5162548...  \n",
       "5  [0.0, 702.096537251, 225.512285582, 110.604432...  "
      ]
     },
     "execution_count": 12,
     "metadata": {},
     "output_type": "execute_result"
    }
   ],
   "source": [
    "subjects['reducedPre'] = [reducer(subj, True) for subj in subjects.data]\n",
    "subjects['reducedPost'] = [reducer(subj, False) for subj in subjects.data]\n",
    "subjects.head()\n",
    "# subjects"
   ]
  },
  {
   "cell_type": "code",
   "execution_count": 46,
   "metadata": {},
   "outputs": [
    {
     "data": {
      "image/png": "[encoded data removed]",
      "text/plain": [
       "<matplotlib.figure.Figure at 0x7f0e81604c90>"
      ]
     },
     "metadata": {},
     "output_type": "display_data"
    }
   ],
   "source": [
    "distMatrix = np.zeros([len(subjects), len(subjects)])\n",
    "for i, post in subjects.reducedPost.iteritems():\n",
    "    # For each post scan\n",
    "    for j, pre in subjects.reducedPre.iteritems():\n",
    "        # How similar is it to each pre scan\n",
    "        distMatrix[i-1, j-1] = dist_func(pre, post)\n",
    "\n",
    "distMatrix /= np.nanmax(distMatrix)\n",
    "\n",
    "cax = plt.matshow(distMatrix)\n",
    "\n",
    "plt.colorbar(cax)\n",
    "# plt.title('Correlation between incomming and outgoing scans')\n",
    "plt.xlabel('Pre subject')\n",
    "plt.ylabel('Post subject')\n",
    "\n",
    "plt.savefig('DistanceMap.png', dpi=500)"
   ]
  },
  {
   "cell_type": "markdown",
   "metadata": {},
   "source": [
    "# Directionality modelling"
   ]
  },
  {
   "cell_type": "code",
   "execution_count": 20,
   "metadata": {},
   "outputs": [
    {
     "data": {
      "text/html": [
       "<div>\n",
       "<style>\n",
       "    .dataframe thead tr:only-child th {\n",
       "        text-align: right;\n",
       "    }\n",
       "\n",
       "    .dataframe thead th {\n",
       "        text-align: left;\n",
       "    }\n",
       "\n",
       "    .dataframe tbody tr th {\n",
       "        vertical-align: top;\n",
       "    }\n",
       "</style>\n",
       "<table border=\"1\" class=\"dataframe\">\n",
       "  <thead>\n",
       "    <tr style=\"text-align: right;\">\n",
       "      <th></th>\n",
       "      <th>folder</th>\n",
       "      <th>data</th>\n",
       "      <th>reducedPre</th>\n",
       "      <th>reducedPost</th>\n",
       "      <th>delta</th>\n",
       "    </tr>\n",
       "  </thead>\n",
       "  <tbody>\n",
       "    <tr>\n",
       "      <th>1</th>\n",
       "      <td>Behavioral-Analyzed-Data/training/1</td>\n",
       "      <td>&lt;__main__.Subject object at 0x7f0ea4549410&gt;</td>\n",
       "      <td>[0.0, 411.6548583, 245.835252436, 227.17283950...</td>\n",
       "      <td>[0.0, 438.531027467, 256.727595386, 340.524038...</td>\n",
       "      <td>[0.0, 26.8761691673, 10.8923429502, 113.351198...</td>\n",
       "    </tr>\n",
       "    <tr>\n",
       "      <th>2</th>\n",
       "      <td>Behavioral-Analyzed-Data/training/2</td>\n",
       "      <td>&lt;__main__.Subject object at 0x7f0e81b4be90&gt;</td>\n",
       "      <td>[0.0, 266.594594595, 83.2254616132, 87.4235924...</td>\n",
       "      <td>[0.0, 549.92690678, 86.6288461538, 118.7257844...</td>\n",
       "      <td>[0.0, 283.332312185, 3.40338454063, 31.3021919...</td>\n",
       "    </tr>\n",
       "    <tr>\n",
       "      <th>3</th>\n",
       "      <td>Behavioral-Analyzed-Data/training/3</td>\n",
       "      <td>&lt;__main__.Subject object at 0x7f0e81ca90d0&gt;</td>\n",
       "      <td>[0.0, 893.836875359, 209.549833095, 164.518681...</td>\n",
       "      <td>[0.0, 714.309027778, 115.080357143, 120.571847...</td>\n",
       "      <td>[0.0, -179.527847581, -94.469475952, -43.94683...</td>\n",
       "    </tr>\n",
       "    <tr>\n",
       "      <th>4</th>\n",
       "      <td>Behavioral-Analyzed-Data/training/4</td>\n",
       "      <td>&lt;__main__.Subject object at 0x7f0e81d000d0&gt;</td>\n",
       "      <td>[0.0, 370.537787514, 456.880110243, 251.801619...</td>\n",
       "      <td>[0.0, 730.798572157, 511.17877338, 271.5162548...</td>\n",
       "      <td>[0.0, 360.260784643, 54.2986631363, 19.7146354...</td>\n",
       "    </tr>\n",
       "    <tr>\n",
       "      <th>5</th>\n",
       "      <td>Behavioral-Analyzed-Data/training/5</td>\n",
       "      <td>&lt;__main__.Subject object at 0x7f0e81cb1550&gt;</td>\n",
       "      <td>[0.0, 744.692073171, 306.807620818, 136.982681...</td>\n",
       "      <td>[0.0, 702.096537251, 225.512285582, 110.604432...</td>\n",
       "      <td>[0.0, -42.5955359199, -81.295335236, -26.37824...</td>\n",
       "    </tr>\n",
       "  </tbody>\n",
       "</table>\n",
       "</div>"
      ],
      "text/plain": [
       "                                folder  \\\n",
       "1  Behavioral-Analyzed-Data/training/1   \n",
       "2  Behavioral-Analyzed-Data/training/2   \n",
       "3  Behavioral-Analyzed-Data/training/3   \n",
       "4  Behavioral-Analyzed-Data/training/4   \n",
       "5  Behavioral-Analyzed-Data/training/5   \n",
       "\n",
       "                                          data  \\\n",
       "1  <__main__.Subject object at 0x7f0ea4549410>   \n",
       "2  <__main__.Subject object at 0x7f0e81b4be90>   \n",
       "3  <__main__.Subject object at 0x7f0e81ca90d0>   \n",
       "4  <__main__.Subject object at 0x7f0e81d000d0>   \n",
       "5  <__main__.Subject object at 0x7f0e81cb1550>   \n",
       "\n",
       "                                          reducedPre  \\\n",
       "1  [0.0, 411.6548583, 245.835252436, 227.17283950...   \n",
       "2  [0.0, 266.594594595, 83.2254616132, 87.4235924...   \n",
       "3  [0.0, 893.836875359, 209.549833095, 164.518681...   \n",
       "4  [0.0, 370.537787514, 456.880110243, 251.801619...   \n",
       "5  [0.0, 744.692073171, 306.807620818, 136.982681...   \n",
       "\n",
       "                                         reducedPost  \\\n",
       "1  [0.0, 438.531027467, 256.727595386, 340.524038...   \n",
       "2  [0.0, 549.92690678, 86.6288461538, 118.7257844...   \n",
       "3  [0.0, 714.309027778, 115.080357143, 120.571847...   \n",
       "4  [0.0, 730.798572157, 511.17877338, 271.5162548...   \n",
       "5  [0.0, 702.096537251, 225.512285582, 110.604432...   \n",
       "\n",
       "                                               delta  \n",
       "1  [0.0, 26.8761691673, 10.8923429502, 113.351198...  \n",
       "2  [0.0, 283.332312185, 3.40338454063, 31.3021919...  \n",
       "3  [0.0, -179.527847581, -94.469475952, -43.94683...  \n",
       "4  [0.0, 360.260784643, 54.2986631363, 19.7146354...  \n",
       "5  [0.0, -42.5955359199, -81.295335236, -26.37824...  "
      ]
     },
     "execution_count": 20,
     "metadata": {},
     "output_type": "execute_result"
    }
   ],
   "source": [
    "subjects['delta'] = subjects.reducedPost - subjects.reducedPre\n",
    "subjects.head()"
   ]
  },
  {
   "cell_type": "code",
   "execution_count": 24,
   "metadata": {},
   "outputs": [
    {
     "name": "stdout",
     "output_type": "stream",
     "text": [
      "(6724,)\n",
      "[  0.           5.67110559  26.13523991 ..., -24.7314285  -37.2998799    0.        ]\n"
     ]
    }
   ],
   "source": [
    "meanDelta = np.mean(subjects.delta)\n",
    "print meanDelta.shape\n",
    "print meanDelta"
   ]
  },
  {
   "cell_type": "code",
   "execution_count": 26,
   "metadata": {},
   "outputs": [
    {
     "data": {
      "text/html": [
       "<div>\n",
       "<style>\n",
       "    .dataframe thead tr:only-child th {\n",
       "        text-align: right;\n",
       "    }\n",
       "\n",
       "    .dataframe thead th {\n",
       "        text-align: left;\n",
       "    }\n",
       "\n",
       "    .dataframe tbody tr th {\n",
       "        vertical-align: top;\n",
       "    }\n",
       "</style>\n",
       "<table border=\"1\" class=\"dataframe\">\n",
       "  <thead>\n",
       "    <tr style=\"text-align: right;\">\n",
       "      <th></th>\n",
       "      <th>folder</th>\n",
       "      <th>data</th>\n",
       "      <th>reducedPre</th>\n",
       "      <th>reducedPost</th>\n",
       "      <th>delta</th>\n",
       "      <th>forecastedPost</th>\n",
       "    </tr>\n",
       "  </thead>\n",
       "  <tbody>\n",
       "    <tr>\n",
       "      <th>1</th>\n",
       "      <td>Behavioral-Analyzed-Data/training/1</td>\n",
       "      <td>&lt;__main__.Subject object at 0x7f0ea4549410&gt;</td>\n",
       "      <td>[0.0, 411.6548583, 245.835252436, 227.17283950...</td>\n",
       "      <td>[0.0, 438.531027467, 256.727595386, 340.524038...</td>\n",
       "      <td>[0.0, 26.8761691673, 10.8923429502, 113.351198...</td>\n",
       "      <td>[0.0, 417.325963887, 271.970492344, 253.084212...</td>\n",
       "    </tr>\n",
       "    <tr>\n",
       "      <th>2</th>\n",
       "      <td>Behavioral-Analyzed-Data/training/2</td>\n",
       "      <td>&lt;__main__.Subject object at 0x7f0e81b4be90&gt;</td>\n",
       "      <td>[0.0, 266.594594595, 83.2254616132, 87.4235924...</td>\n",
       "      <td>[0.0, 549.92690678, 86.6288461538, 118.7257844...</td>\n",
       "      <td>[0.0, 283.332312185, 3.40338454063, 31.3021919...</td>\n",
       "      <td>[0.0, 272.265700182, 109.360701521, 113.334965...</td>\n",
       "    </tr>\n",
       "    <tr>\n",
       "      <th>3</th>\n",
       "      <td>Behavioral-Analyzed-Data/training/3</td>\n",
       "      <td>&lt;__main__.Subject object at 0x7f0e81ca90d0&gt;</td>\n",
       "      <td>[0.0, 893.836875359, 209.549833095, 164.518681...</td>\n",
       "      <td>[0.0, 714.309027778, 115.080357143, 120.571847...</td>\n",
       "      <td>[0.0, -179.527847581, -94.469475952, -43.94683...</td>\n",
       "      <td>[0.0, 899.507980946, 235.685073003, 190.430054...</td>\n",
       "    </tr>\n",
       "    <tr>\n",
       "      <th>4</th>\n",
       "      <td>Behavioral-Analyzed-Data/training/4</td>\n",
       "      <td>&lt;__main__.Subject object at 0x7f0e81d000d0&gt;</td>\n",
       "      <td>[0.0, 370.537787514, 456.880110243, 251.801619...</td>\n",
       "      <td>[0.0, 730.798572157, 511.17877338, 271.5162548...</td>\n",
       "      <td>[0.0, 360.260784643, 54.2986631363, 19.7146354...</td>\n",
       "      <td>[0.0, 376.208893101, 483.015350152, 277.712992...</td>\n",
       "    </tr>\n",
       "    <tr>\n",
       "      <th>5</th>\n",
       "      <td>Behavioral-Analyzed-Data/training/5</td>\n",
       "      <td>&lt;__main__.Subject object at 0x7f0e81cb1550&gt;</td>\n",
       "      <td>[0.0, 744.692073171, 306.807620818, 136.982681...</td>\n",
       "      <td>[0.0, 702.096537251, 225.512285582, 110.604432...</td>\n",
       "      <td>[0.0, -42.5955359199, -81.295335236, -26.37824...</td>\n",
       "      <td>[0.0, 750.363178758, 332.942860726, 162.894054...</td>\n",
       "    </tr>\n",
       "  </tbody>\n",
       "</table>\n",
       "</div>"
      ],
      "text/plain": [
       "                                folder  \\\n",
       "1  Behavioral-Analyzed-Data/training/1   \n",
       "2  Behavioral-Analyzed-Data/training/2   \n",
       "3  Behavioral-Analyzed-Data/training/3   \n",
       "4  Behavioral-Analyzed-Data/training/4   \n",
       "5  Behavioral-Analyzed-Data/training/5   \n",
       "\n",
       "                                          data  \\\n",
       "1  <__main__.Subject object at 0x7f0ea4549410>   \n",
       "2  <__main__.Subject object at 0x7f0e81b4be90>   \n",
       "3  <__main__.Subject object at 0x7f0e81ca90d0>   \n",
       "4  <__main__.Subject object at 0x7f0e81d000d0>   \n",
       "5  <__main__.Subject object at 0x7f0e81cb1550>   \n",
       "\n",
       "                                          reducedPre  \\\n",
       "1  [0.0, 411.6548583, 245.835252436, 227.17283950...   \n",
       "2  [0.0, 266.594594595, 83.2254616132, 87.4235924...   \n",
       "3  [0.0, 893.836875359, 209.549833095, 164.518681...   \n",
       "4  [0.0, 370.537787514, 456.880110243, 251.801619...   \n",
       "5  [0.0, 744.692073171, 306.807620818, 136.982681...   \n",
       "\n",
       "                                         reducedPost  \\\n",
       "1  [0.0, 438.531027467, 256.727595386, 340.524038...   \n",
       "2  [0.0, 549.92690678, 86.6288461538, 118.7257844...   \n",
       "3  [0.0, 714.309027778, 115.080357143, 120.571847...   \n",
       "4  [0.0, 730.798572157, 511.17877338, 271.5162548...   \n",
       "5  [0.0, 702.096537251, 225.512285582, 110.604432...   \n",
       "\n",
       "                                               delta  \\\n",
       "1  [0.0, 26.8761691673, 10.8923429502, 113.351198...   \n",
       "2  [0.0, 283.332312185, 3.40338454063, 31.3021919...   \n",
       "3  [0.0, -179.527847581, -94.469475952, -43.94683...   \n",
       "4  [0.0, 360.260784643, 54.2986631363, 19.7146354...   \n",
       "5  [0.0, -42.5955359199, -81.295335236, -26.37824...   \n",
       "\n",
       "                                      forecastedPost  \n",
       "1  [0.0, 417.325963887, 271.970492344, 253.084212...  \n",
       "2  [0.0, 272.265700182, 109.360701521, 113.334965...  \n",
       "3  [0.0, 899.507980946, 235.685073003, 190.430054...  \n",
       "4  [0.0, 376.208893101, 483.015350152, 277.712992...  \n",
       "5  [0.0, 750.363178758, 332.942860726, 162.894054...  "
      ]
     },
     "execution_count": 26,
     "metadata": {},
     "output_type": "execute_result"
    }
   ],
   "source": [
    "subjects['forecastedPost'] = subjects.reducedPre + meanDelta\n",
    "subjects.head()"
   ]
  },
  {
   "cell_type": "code",
   "execution_count": 47,
   "metadata": {},
   "outputs": [
    {
     "data": {
      "image/png": "[encoded data removed]",
      "text/plain": [
       "<matplotlib.figure.Figure at 0x7f0e8111f850>"
      ]
     },
     "metadata": {},
     "output_type": "display_data"
    }
   ],
   "source": [
    "distMatrix = np.zeros([len(subjects), len(subjects) + 3])\n",
    "for i, post in subjects.reducedPost.iteritems():\n",
    "    # For each post scan\n",
    "    for j, pre in subjects.reducedPre.iteritems():\n",
    "        # How similar is it to each pre scan\n",
    "        distMatrix[i-1, j-1] = dist_func(pre, post)\n",
    "    \n",
    "    # How similar is it to its own pre scan?\n",
    "    distMatrix[i-1,-1] = dist_func(subjects.forecastedPost[i], post)\n",
    "    # How similar is it to the prediction?\n",
    "    distMatrix[i-1,-2] = dist_func(subjects.reducedPre[i], post)\n",
    "    \n",
    "    distMatrix[i-1,-3] = float('nan')\n",
    "\n",
    "distMatrix /= np.nanmax(distMatrix)\n",
    "\n",
    "cax = plt.matshow(distMatrix)\n",
    "\n",
    "plt.colorbar(cax)\n",
    "# plt.title('Correlation between incomming and outgoing scans')\n",
    "plt.xlabel('Pre subject')\n",
    "plt.ylabel('Post subject')\n",
    "\n",
    "plt.savefig('DistanceMap_dir.png', dpi=500)"
   ]
  },
  {
   "cell_type": "markdown",
   "metadata": {},
   "source": [
    "# Results"
   ]
  }
 ],
 "metadata": {
  "kernelspec": {
   "display_name": "Python 2",
   "language": "python",
   "name": "python2"
  },
  "language_info": {
   "codemirror_mode": {
    "name": "ipython",
    "version": 2
   },
   "file_extension": ".py",
   "mimetype": "text/x-python",
   "name": "python",
   "nbconvert_exporter": "python",
   "pygments_lexer": "ipython2",
   "version": "2.7.12"
  }
 },
 "nbformat": 4,
 "nbformat_minor": 2
}
