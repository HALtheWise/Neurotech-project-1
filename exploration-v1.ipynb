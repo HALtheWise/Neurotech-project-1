{
 "cells": [
  {
   "cell_type": "code",
   "execution_count": 1,
   "metadata": {},
   "outputs": [],
   "source": [
    "%matplotlib inline\n",
    "\n",
    "import numpy as np\n",
    "import matplotlib.pyplot as plt\n",
    "import pandas as pd\n",
    "import os\n",
    "\n",
    "%run 'parse.ipynb'"
   ]
  },
  {
   "cell_type": "markdown",
   "metadata": {},
   "source": [
    "# Load data"
   ]
  },
  {
   "cell_type": "code",
   "execution_count": 2,
   "metadata": {},
   "outputs": [],
   "source": [
    "datadir = 'Behavioral-Analyzed-Data/training/'"
   ]
  },
  {
   "cell_type": "code",
   "execution_count": 3,
   "metadata": {},
   "outputs": [
    {
     "data": {
      "text/plain": [
       "20"
      ]
     },
     "execution_count": 3,
     "metadata": {},
     "output_type": "execute_result"
    }
   ],
   "source": [
    "folders=[datadir+s for s in os.listdir(datadir) if len(s) <= 2]\n",
    "len(folders)"
   ]
  },
  {
   "cell_type": "code",
   "execution_count": 4,
   "metadata": {},
   "outputs": [
    {
     "data": {
      "text/html": [
       "<div>\n",
       "<style>\n",
       "    .dataframe thead tr:only-child th {\n",
       "        text-align: right;\n",
       "    }\n",
       "\n",
       "    .dataframe thead th {\n",
       "        text-align: left;\n",
       "    }\n",
       "\n",
       "    .dataframe tbody tr th {\n",
       "        vertical-align: top;\n",
       "    }\n",
       "</style>\n",
       "<table border=\"1\" class=\"dataframe\">\n",
       "  <thead>\n",
       "    <tr style=\"text-align: right;\">\n",
       "      <th></th>\n",
       "      <th>folder</th>\n",
       "    </tr>\n",
       "  </thead>\n",
       "  <tbody>\n",
       "    <tr>\n",
       "      <th>1</th>\n",
       "      <td>Behavioral-Analyzed-Data/training/1</td>\n",
       "    </tr>\n",
       "    <tr>\n",
       "      <th>2</th>\n",
       "      <td>Behavioral-Analyzed-Data/training/2</td>\n",
       "    </tr>\n",
       "    <tr>\n",
       "      <th>3</th>\n",
       "      <td>Behavioral-Analyzed-Data/training/3</td>\n",
       "    </tr>\n",
       "    <tr>\n",
       "      <th>4</th>\n",
       "      <td>Behavioral-Analyzed-Data/training/4</td>\n",
       "    </tr>\n",
       "    <tr>\n",
       "      <th>5</th>\n",
       "      <td>Behavioral-Analyzed-Data/training/5</td>\n",
       "    </tr>\n",
       "  </tbody>\n",
       "</table>\n",
       "</div>"
      ],
      "text/plain": [
       "                                folder\n",
       "1  Behavioral-Analyzed-Data/training/1\n",
       "2  Behavioral-Analyzed-Data/training/2\n",
       "3  Behavioral-Analyzed-Data/training/3\n",
       "4  Behavioral-Analyzed-Data/training/4\n",
       "5  Behavioral-Analyzed-Data/training/5"
      ]
     },
     "execution_count": 4,
     "metadata": {},
     "output_type": "execute_result"
    }
   ],
   "source": [
    "subjects = pd.DataFrame(folders,columns=['folder'])\n",
    "subjects.index = [int(s.split('/')[-1]) for s in subjects.folder]\n",
    "subjects.sort_index(inplace=True)\n",
    "subjects.head()"
   ]
  },
  {
   "cell_type": "code",
   "execution_count": 5,
   "metadata": {},
   "outputs": [],
   "source": [
    "subj = doparse(1)"
   ]
  },
  {
   "cell_type": "code",
   "execution_count": 6,
   "metadata": {},
   "outputs": [
    {
     "data": {
      "text/html": [
       "<div>\n",
       "<style>\n",
       "    .dataframe thead tr:only-child th {\n",
       "        text-align: right;\n",
       "    }\n",
       "\n",
       "    .dataframe thead th {\n",
       "        text-align: left;\n",
       "    }\n",
       "\n",
       "    .dataframe tbody tr th {\n",
       "        vertical-align: top;\n",
       "    }\n",
       "</style>\n",
       "<table border=\"1\" class=\"dataframe\">\n",
       "  <thead>\n",
       "    <tr style=\"text-align: right;\">\n",
       "      <th></th>\n",
       "      <th>folder</th>\n",
       "      <th>data</th>\n",
       "    </tr>\n",
       "  </thead>\n",
       "  <tbody>\n",
       "    <tr>\n",
       "      <th>1</th>\n",
       "      <td>Behavioral-Analyzed-Data/training/1</td>\n",
       "      <td>&lt;__main__.Subject object at 0x7f5edb4d8f10&gt;</td>\n",
       "    </tr>\n",
       "    <tr>\n",
       "      <th>2</th>\n",
       "      <td>Behavioral-Analyzed-Data/training/2</td>\n",
       "      <td>&lt;__main__.Subject object at 0x7f5eb07396d0&gt;</td>\n",
       "    </tr>\n",
       "    <tr>\n",
       "      <th>3</th>\n",
       "      <td>Behavioral-Analyzed-Data/training/3</td>\n",
       "      <td>&lt;__main__.Subject object at 0x7f5eb0676210&gt;</td>\n",
       "    </tr>\n",
       "    <tr>\n",
       "      <th>4</th>\n",
       "      <td>Behavioral-Analyzed-Data/training/4</td>\n",
       "      <td>&lt;__main__.Subject object at 0x7f5eb06c64d0&gt;</td>\n",
       "    </tr>\n",
       "    <tr>\n",
       "      <th>5</th>\n",
       "      <td>Behavioral-Analyzed-Data/training/5</td>\n",
       "      <td>&lt;__main__.Subject object at 0x7f5eb0679650&gt;</td>\n",
       "    </tr>\n",
       "  </tbody>\n",
       "</table>\n",
       "</div>"
      ],
      "text/plain": [
       "                                folder  \\\n",
       "1  Behavioral-Analyzed-Data/training/1   \n",
       "2  Behavioral-Analyzed-Data/training/2   \n",
       "3  Behavioral-Analyzed-Data/training/3   \n",
       "4  Behavioral-Analyzed-Data/training/4   \n",
       "5  Behavioral-Analyzed-Data/training/5   \n",
       "\n",
       "                                          data  \n",
       "1  <__main__.Subject object at 0x7f5edb4d8f10>  \n",
       "2  <__main__.Subject object at 0x7f5eb07396d0>  \n",
       "3  <__main__.Subject object at 0x7f5eb0676210>  \n",
       "4  <__main__.Subject object at 0x7f5eb06c64d0>  \n",
       "5  <__main__.Subject object at 0x7f5eb0679650>  "
      ]
     },
     "execution_count": 6,
     "metadata": {},
     "output_type": "execute_result"
    }
   ],
   "source": [
    "subjects['data'] = [doparse(data_type = 'training', subj=i) for i in subjects.index]\n",
    "subjects.head()"
   ]
  },
  {
   "cell_type": "markdown",
   "metadata": {},
   "source": [
    "# Dimensionality reduction"
   ]
  },
  {
   "cell_type": "code",
   "execution_count": 7,
   "metadata": {},
   "outputs": [],
   "source": [
    "# A Reducer takes in a Subject object, defined above, and a bool \"isPre\"\n",
    "# and returns a numpy vector.\n",
    "# Eventually, it will have performed useful reduction in the process."
   ]
  },
  {
   "cell_type": "code",
   "execution_count": 8,
   "metadata": {},
   "outputs": [],
   "source": [
    "def nullRSreducer(subj, isPre = True):\n",
    "    if isPre:\n",
    "        return subj.Pre_RS.values.flatten()\n",
    "    else:\n",
    "        return subj.Post_RS.values.flatten()"
   ]
  },
  {
   "cell_type": "code",
   "execution_count": 9,
   "metadata": {},
   "outputs": [],
   "source": [
    "def nullFSreducer(subj, isPre = True):\n",
    "    if isPre:\n",
    "        return subj.Pre_FS.values.flatten()\n",
    "    else:\n",
    "        return subj.Post_FS.values.flatten()"
   ]
  },
  {
   "cell_type": "markdown",
   "metadata": {},
   "source": [
    "# Similarity Matrices"
   ]
  },
  {
   "cell_type": "code",
   "execution_count": 10,
   "metadata": {},
   "outputs": [],
   "source": [
    "def dist_func(vect1, vect2):\n",
    "    return np.linalg.norm(vect1 - vect2)"
   ]
  },
  {
   "cell_type": "code",
   "execution_count": 17,
   "metadata": {},
   "outputs": [],
   "source": [
    "reducer = nullFSreducer"
   ]
  },
  {
   "cell_type": "code",
   "execution_count": 18,
   "metadata": {},
   "outputs": [
    {
     "data": {
      "text/html": [
       "<div>\n",
       "<style>\n",
       "    .dataframe thead tr:only-child th {\n",
       "        text-align: right;\n",
       "    }\n",
       "\n",
       "    .dataframe thead th {\n",
       "        text-align: left;\n",
       "    }\n",
       "\n",
       "    .dataframe tbody tr th {\n",
       "        vertical-align: top;\n",
       "    }\n",
       "</style>\n",
       "<table border=\"1\" class=\"dataframe\">\n",
       "  <thead>\n",
       "    <tr style=\"text-align: right;\">\n",
       "      <th></th>\n",
       "      <th>folder</th>\n",
       "      <th>data</th>\n",
       "      <th>reducedPre</th>\n",
       "      <th>reducedPost</th>\n",
       "    </tr>\n",
       "  </thead>\n",
       "  <tbody>\n",
       "    <tr>\n",
       "      <th>1</th>\n",
       "      <td>Behavioral-Analyzed-Data/training/1</td>\n",
       "      <td>&lt;__main__.Subject object at 0x7f5edb4d8f10&gt;</td>\n",
       "      <td>[0.0, 411.6548583, 245.835252436, 227.17283950...</td>\n",
       "      <td>[0.0, 438.531027467, 256.727595386, 340.524038...</td>\n",
       "    </tr>\n",
       "    <tr>\n",
       "      <th>2</th>\n",
       "      <td>Behavioral-Analyzed-Data/training/2</td>\n",
       "      <td>&lt;__main__.Subject object at 0x7f5eb07396d0&gt;</td>\n",
       "      <td>[0.0, 266.594594595, 83.2254616132, 87.4235924...</td>\n",
       "      <td>[0.0, 549.92690678, 86.6288461538, 118.7257844...</td>\n",
       "    </tr>\n",
       "    <tr>\n",
       "      <th>3</th>\n",
       "      <td>Behavioral-Analyzed-Data/training/3</td>\n",
       "      <td>&lt;__main__.Subject object at 0x7f5eb0676210&gt;</td>\n",
       "      <td>[0.0, 893.836875359, 209.549833095, 164.518681...</td>\n",
       "      <td>[0.0, 714.309027778, 115.080357143, 120.571847...</td>\n",
       "    </tr>\n",
       "    <tr>\n",
       "      <th>4</th>\n",
       "      <td>Behavioral-Analyzed-Data/training/4</td>\n",
       "      <td>&lt;__main__.Subject object at 0x7f5eb06c64d0&gt;</td>\n",
       "      <td>[0.0, 370.537787514, 456.880110243, 251.801619...</td>\n",
       "      <td>[0.0, 730.798572157, 511.17877338, 271.5162548...</td>\n",
       "    </tr>\n",
       "    <tr>\n",
       "      <th>5</th>\n",
       "      <td>Behavioral-Analyzed-Data/training/5</td>\n",
       "      <td>&lt;__main__.Subject object at 0x7f5eb0679650&gt;</td>\n",
       "      <td>[0.0, 744.692073171, 306.807620818, 136.982681...</td>\n",
       "      <td>[0.0, 702.096537251, 225.512285582, 110.604432...</td>\n",
       "    </tr>\n",
       "  </tbody>\n",
       "</table>\n",
       "</div>"
      ],
      "text/plain": [
       "                                folder  \\\n",
       "1  Behavioral-Analyzed-Data/training/1   \n",
       "2  Behavioral-Analyzed-Data/training/2   \n",
       "3  Behavioral-Analyzed-Data/training/3   \n",
       "4  Behavioral-Analyzed-Data/training/4   \n",
       "5  Behavioral-Analyzed-Data/training/5   \n",
       "\n",
       "                                          data  \\\n",
       "1  <__main__.Subject object at 0x7f5edb4d8f10>   \n",
       "2  <__main__.Subject object at 0x7f5eb07396d0>   \n",
       "3  <__main__.Subject object at 0x7f5eb0676210>   \n",
       "4  <__main__.Subject object at 0x7f5eb06c64d0>   \n",
       "5  <__main__.Subject object at 0x7f5eb0679650>   \n",
       "\n",
       "                                          reducedPre  \\\n",
       "1  [0.0, 411.6548583, 245.835252436, 227.17283950...   \n",
       "2  [0.0, 266.594594595, 83.2254616132, 87.4235924...   \n",
       "3  [0.0, 893.836875359, 209.549833095, 164.518681...   \n",
       "4  [0.0, 370.537787514, 456.880110243, 251.801619...   \n",
       "5  [0.0, 744.692073171, 306.807620818, 136.982681...   \n",
       "\n",
       "                                         reducedPost  \n",
       "1  [0.0, 438.531027467, 256.727595386, 340.524038...  \n",
       "2  [0.0, 549.92690678, 86.6288461538, 118.7257844...  \n",
       "3  [0.0, 714.309027778, 115.080357143, 120.571847...  \n",
       "4  [0.0, 730.798572157, 511.17877338, 271.5162548...  \n",
       "5  [0.0, 702.096537251, 225.512285582, 110.604432...  "
      ]
     },
     "execution_count": 18,
     "metadata": {},
     "output_type": "execute_result"
    }
   ],
   "source": [
    "subjects['reducedPre'] = [reducer(subj, True) for subj in subjects.data]\n",
    "subjects['reducedPost'] = [reducer(subj, False) for subj in subjects.data]\n",
    "subjects.head()\n",
    "# subjects"
   ]
  },
  {
   "cell_type": "code",
   "execution_count": 19,
   "metadata": {},
   "outputs": [
    {
     "data": {
      "image/png": "[encoded data removed]",
      "text/plain": [
       "<matplotlib.figure.Figure at 0x7f5eb06fe210>"
      ]
     },
     "metadata": {},
     "output_type": "display_data"
    }
   ],
   "source": [
    "distMatrix = np.zeros([len(subjects), len(subjects)])\n",
    "for i, pre in enumerate(subjects.reducedPre):\n",
    "    for j, post in enumerate(subjects.reducedPost):\n",
    "        distMatrix[i, j] = dist_func(pre, post)\n",
    "\n",
    "distMatrix /= np.nanmax(distMatrix)\n",
    "\n",
    "cax = plt.matshow(distMatrix)\n",
    "\n",
    "plt.colorbar(cax)\n",
    "# plt.title('Correlation between incomming and outgoing scans')\n",
    "plt.xlabel('Post subject')\n",
    "plt.ylabel('Pre subject')\n",
    "\n",
    "plt.savefig('DistanceMap.png', dpi=500)"
   ]
  },
  {
   "cell_type": "markdown",
   "metadata": {},
   "source": [
    "# Directionality modelling"
   ]
  },
  {
   "cell_type": "code",
   "execution_count": null,
   "metadata": {},
   "outputs": [],
   "source": []
  },
  {
   "cell_type": "markdown",
   "metadata": {},
   "source": [
    "# Results"
   ]
  }
 ],
 "metadata": {
  "kernelspec": {
   "display_name": "Python 2",
   "language": "python",
   "name": "python2"
  },
  "language_info": {
   "codemirror_mode": {
    "name": "ipython",
    "version": 2
   },
   "file_extension": ".py",
   "mimetype": "text/x-python",
   "name": "python",
   "nbconvert_exporter": "python",
   "pygments_lexer": "ipython2",
   "version": "2.7.12"
  }
 },
 "nbformat": 4,
 "nbformat_minor": 2
}
