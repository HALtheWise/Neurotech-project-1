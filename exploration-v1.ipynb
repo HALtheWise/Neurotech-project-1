{
 "cells": [
  {
   "cell_type": "code",
   "execution_count": 1,
   "metadata": {},
   "outputs": [],
   "source": [
    "# %matplotlib inline\n",
    "\n",
    "import numpy as np\n",
    "import matplotlib.pyplot as plt\n",
    "import pandas as pd\n",
    "import os\n",
    "\n",
    "%run 'parse.ipynb'\n",
    "%run 'correlation_clustering_refactor.ipynb'"
   ]
  },
  {
   "cell_type": "code",
   "execution_count": 2,
   "metadata": {},
   "outputs": [],
   "source": [
    "%matplotlib inline"
   ]
  },
  {
   "cell_type": "markdown",
   "metadata": {},
   "source": [
    "# Load data"
   ]
  },
  {
   "cell_type": "code",
   "execution_count": 3,
   "metadata": {},
   "outputs": [],
   "source": [
    "def loadData(data_type='training'):\n",
    "    datadir = 'Behavioral-Analyzed-Data/{}/'.format(data_type)\n",
    "    \n",
    "    folders=[datadir+s for s in os.listdir(datadir) if len(s) <= 2]\n",
    "    \n",
    "    subjects = pd.DataFrame(folders,columns=['folder'])\n",
    "    subjects.index = [int(s.split('/')[-1]) for s in subjects.folder]\n",
    "    subjects.sort_index(inplace=True)\n",
    "    \n",
    "    subjects['data'] = [doparse(data_type = data_type, subj=i) for i in subjects.index]\n",
    "\n",
    "    return subjects"
   ]
  },
  {
   "cell_type": "code",
   "execution_count": 4,
   "metadata": {},
   "outputs": [
    {
     "data": {
      "text/html": [
       "<div>\n",
       "<style>\n",
       "    .dataframe thead tr:only-child th {\n",
       "        text-align: right;\n",
       "    }\n",
       "\n",
       "    .dataframe thead th {\n",
       "        text-align: left;\n",
       "    }\n",
       "\n",
       "    .dataframe tbody tr th {\n",
       "        vertical-align: top;\n",
       "    }\n",
       "</style>\n",
       "<table border=\"1\" class=\"dataframe\">\n",
       "  <thead>\n",
       "    <tr style=\"text-align: right;\">\n",
       "      <th></th>\n",
       "      <th>folder</th>\n",
       "      <th>data</th>\n",
       "    </tr>\n",
       "  </thead>\n",
       "  <tbody>\n",
       "    <tr>\n",
       "      <th>1</th>\n",
       "      <td>Behavioral-Analyzed-Data/training/1</td>\n",
       "      <td>&lt;__main__.Subject object at 0x7fb8d1e9c890&gt;</td>\n",
       "    </tr>\n",
       "    <tr>\n",
       "      <th>2</th>\n",
       "      <td>Behavioral-Analyzed-Data/training/2</td>\n",
       "      <td>&lt;__main__.Subject object at 0x7fb8c3e06890&gt;</td>\n",
       "    </tr>\n",
       "    <tr>\n",
       "      <th>3</th>\n",
       "      <td>Behavioral-Analyzed-Data/training/3</td>\n",
       "      <td>&lt;__main__.Subject object at 0x7fb8c3df7550&gt;</td>\n",
       "    </tr>\n",
       "    <tr>\n",
       "      <th>4</th>\n",
       "      <td>Behavioral-Analyzed-Data/training/4</td>\n",
       "      <td>&lt;__main__.Subject object at 0x7fb8d1820e90&gt;</td>\n",
       "    </tr>\n",
       "    <tr>\n",
       "      <th>5</th>\n",
       "      <td>Behavioral-Analyzed-Data/training/5</td>\n",
       "      <td>&lt;__main__.Subject object at 0x7fb8d182ba50&gt;</td>\n",
       "    </tr>\n",
       "  </tbody>\n",
       "</table>\n",
       "</div>"
      ],
      "text/plain": [
       "                                folder  \\\n",
       "1  Behavioral-Analyzed-Data/training/1   \n",
       "2  Behavioral-Analyzed-Data/training/2   \n",
       "3  Behavioral-Analyzed-Data/training/3   \n",
       "4  Behavioral-Analyzed-Data/training/4   \n",
       "5  Behavioral-Analyzed-Data/training/5   \n",
       "\n",
       "                                          data  \n",
       "1  <__main__.Subject object at 0x7fb8d1e9c890>  \n",
       "2  <__main__.Subject object at 0x7fb8c3e06890>  \n",
       "3  <__main__.Subject object at 0x7fb8c3df7550>  \n",
       "4  <__main__.Subject object at 0x7fb8d1820e90>  \n",
       "5  <__main__.Subject object at 0x7fb8d182ba50>  "
      ]
     },
     "execution_count": 4,
     "metadata": {},
     "output_type": "execute_result"
    }
   ],
   "source": [
    "subjects = loadData('training')\n",
    "subjects.head()"
   ]
  },
  {
   "cell_type": "markdown",
   "metadata": {},
   "source": [
    "# Dimensionality reduction"
   ]
  },
  {
   "cell_type": "code",
   "execution_count": 5,
   "metadata": {},
   "outputs": [],
   "source": [
    "# A Reducer takes in a Subject object, defined above, and a bool \"isPre\"\n",
    "# and returns a numpy vector.\n",
    "# Eventually, it will have performed useful reduction in the process."
   ]
  },
  {
   "cell_type": "code",
   "execution_count": 6,
   "metadata": {},
   "outputs": [],
   "source": [
    "def nullRSreducer(subj, isPre = True):\n",
    "    if isPre:\n",
    "        return subj.Pre_RS.values.flatten()\n",
    "    else:\n",
    "        return subj.Post_RS.values.flatten()"
   ]
  },
  {
   "cell_type": "code",
   "execution_count": 7,
   "metadata": {},
   "outputs": [],
   "source": [
    "def nullFSreducer(subj, isPre = True):\n",
    "    if isPre:\n",
    "        return subj.Pre_FS.values.flatten()\n",
    "    else:\n",
    "        return subj.Post_FS.values.flatten()"
   ]
  },
  {
   "cell_type": "code",
   "execution_count": 8,
   "metadata": {},
   "outputs": [],
   "source": [
    "data = np.array([s.Pre_RS.values for s in subjects.data] + [s.Post_RS.values for s in subjects.data])\n",
    "rdc = ClusterReducer(data)\n",
    "def clusteringRSreducer(subj, isPre = True):\n",
    "    if isPre:\n",
    "        return rdc(subj.Pre_RS.values).flatten()\n",
    "    else:\n",
    "        return rdc(subj.Post_RS.values).flatten()"
   ]
  },
  {
   "cell_type": "code",
   "execution_count": 9,
   "metadata": {},
   "outputs": [],
   "source": [
    "data = np.array([s.Pre_FS.values for s in subjects.data] + [s.Post_FS.values for s in subjects.data])\n",
    "fdc = ClusterReducer(data)\n",
    "def clusteringFSreducer(subj, isPre = True):\n",
    "    if isPre:\n",
    "        return fdc(subj.Pre_RS.values).flatten()\n",
    "    else:\n",
    "        return fdc(subj.Post_RS.values).flatten()"
   ]
  },
  {
   "cell_type": "code",
   "execution_count": 11,
   "metadata": {},
   "outputs": [],
   "source": [
    "y_rdc = YeoReducer(ignored_regions)\n",
    "def yeoRSreducer(subj, isPre=True):\n",
    "    if isPre:\n",
    "        return y_rdc(subj.Pre_RS.values).flatten()\n",
    "    else:\n",
    "        return y_rdc(subj.Post_RS.values).flatten()"
   ]
  },
  {
   "cell_type": "markdown",
   "metadata": {},
   "source": [
    "# Similarity Matrices"
   ]
  },
  {
   "cell_type": "code",
   "execution_count": 12,
   "metadata": {},
   "outputs": [],
   "source": [
    "def dist_func(vect1, vect2):\n",
    "    return np.linalg.norm(vect1 - vect2)"
   ]
  },
  {
   "cell_type": "code",
   "execution_count": 13,
   "metadata": {},
   "outputs": [],
   "source": [
    "def plotSimilarityMatrix(subjects, reducer):\n",
    "    subjects = subjects.copy()\n",
    "    subjects['reducedPre'] = [reducer(subj, True) for subj in subjects.data]\n",
    "    subjects['reducedPost'] = [reducer(subj, False) for subj in subjects.data]\n",
    "    \n",
    "    distMatrix = np.zeros([len(subjects), len(subjects)])\n",
    "    for i, post in subjects.reducedPost.iteritems():\n",
    "        # For each post scan\n",
    "        for j, pre in subjects.reducedPre.iteritems():\n",
    "            # How similar is it to each pre scan\n",
    "            distMatrix[i-1, j-1] = dist_func(pre, post)\n",
    "\n",
    "    distMatrix /= np.nanmax(distMatrix)\n",
    "\n",
    "    fig = plt.figure()\n",
    "    ax = fig.add_subplot(111)\n",
    "    cax = ax.matshow(distMatrix)\n",
    "\n",
    "    fig.colorbar(cax)\n",
    "    # plt.title('Correlation between incomming and outgoing scans')\n",
    "    ax.set_xlabel('Pre subject')\n",
    "    ax.set_ylabel('Post subject')\n",
    "    \n",
    "    return fig"
   ]
  },
  {
   "cell_type": "code",
   "execution_count": 14,
   "metadata": {
    "scrolled": true
   },
   "outputs": [
    {
     "data": {
      "image/png": "[encoded data removed]",
      "text/plain": [
       "<matplotlib.figure.Figure at 0x7fb8c3f55890>"
      ]
     },
     "metadata": {},
     "output_type": "display_data"
    }
   ],
   "source": [
    "fig = plotSimilarityMatrix(subjects, nullRSreducer)\n",
    "\n",
    "fig.savefig('DistanceMap_naiveRS.png', dpi=500, transparent=True)"
   ]
  },
  {
   "cell_type": "code",
   "execution_count": 15,
   "metadata": {
    "scrolled": true
   },
   "outputs": [
    {
     "data": {
      "image/png": "[encoded data removed]",
      "text/plain": [
       "<matplotlib.figure.Figure at 0x7fb8d171ebd0>"
      ]
     },
     "metadata": {},
     "output_type": "display_data"
    }
   ],
   "source": [
    "fig = plotSimilarityMatrix(subjects, clusteringRSreducer)\n",
    "\n",
    "fig.savefig('DistanceMap_clusteredRS.png', dpi=500, transparent=True)"
   ]
  },
  {
   "cell_type": "code",
   "execution_count": 33,
   "metadata": {},
   "outputs": [
    {
     "ename": "IndexError",
     "evalue": "index 277 is out of bounds for axis 1 with size 274",
     "output_type": "error",
     "traceback": [
      "\u001b[0;31m---------------------------------------------------------------------\u001b[0m",
      "\u001b[0;31mIndexError\u001b[0m                          Traceback (most recent call last)",
      "\u001b[0;32m<ipython-input-33-b01564effba3>\u001b[0m in \u001b[0;36m<module>\u001b[0;34m()\u001b[0m\n\u001b[0;32m----> 1\u001b[0;31m \u001b[0mfig\u001b[0m \u001b[0;34m=\u001b[0m \u001b[0mplotSimilarityMatrix\u001b[0m\u001b[0;34m(\u001b[0m\u001b[0msubjects\u001b[0m\u001b[0;34m,\u001b[0m \u001b[0myeoRSreducer\u001b[0m\u001b[0;34m)\u001b[0m\u001b[0;34m\u001b[0m\u001b[0m\n\u001b[0m\u001b[1;32m      2\u001b[0m \u001b[0;34m\u001b[0m\u001b[0m\n\u001b[1;32m      3\u001b[0m \u001b[0mfig\u001b[0m\u001b[0;34m.\u001b[0m\u001b[0msavefig\u001b[0m\u001b[0;34m(\u001b[0m\u001b[0;34m'DistanceMap_yeoRS.png'\u001b[0m\u001b[0;34m,\u001b[0m \u001b[0mdpi\u001b[0m\u001b[0;34m=\u001b[0m\u001b[0;36m500\u001b[0m\u001b[0;34m,\u001b[0m \u001b[0mtransparent\u001b[0m\u001b[0;34m=\u001b[0m\u001b[0mTrue\u001b[0m\u001b[0;34m)\u001b[0m\u001b[0;34m\u001b[0m\u001b[0m\n",
      "\u001b[0;32m<ipython-input-13-b443cf1f85ae>\u001b[0m in \u001b[0;36mplotSimilarityMatrix\u001b[0;34m(subjects, reducer)\u001b[0m\n\u001b[1;32m      1\u001b[0m \u001b[0;32mdef\u001b[0m \u001b[0mplotSimilarityMatrix\u001b[0m\u001b[0;34m(\u001b[0m\u001b[0msubjects\u001b[0m\u001b[0;34m,\u001b[0m \u001b[0mreducer\u001b[0m\u001b[0;34m)\u001b[0m\u001b[0;34m:\u001b[0m\u001b[0;34m\u001b[0m\u001b[0m\n\u001b[1;32m      2\u001b[0m     \u001b[0msubjects\u001b[0m \u001b[0;34m=\u001b[0m \u001b[0msubjects\u001b[0m\u001b[0;34m.\u001b[0m\u001b[0mcopy\u001b[0m\u001b[0;34m(\u001b[0m\u001b[0;34m)\u001b[0m\u001b[0;34m\u001b[0m\u001b[0m\n\u001b[0;32m----> 3\u001b[0;31m     \u001b[0msubjects\u001b[0m\u001b[0;34m[\u001b[0m\u001b[0;34m'reducedPre'\u001b[0m\u001b[0;34m]\u001b[0m \u001b[0;34m=\u001b[0m \u001b[0;34m[\u001b[0m\u001b[0mreducer\u001b[0m\u001b[0;34m(\u001b[0m\u001b[0msubj\u001b[0m\u001b[0;34m,\u001b[0m \u001b[0mTrue\u001b[0m\u001b[0;34m)\u001b[0m \u001b[0;32mfor\u001b[0m \u001b[0msubj\u001b[0m \u001b[0;32min\u001b[0m \u001b[0msubjects\u001b[0m\u001b[0;34m.\u001b[0m\u001b[0mdata\u001b[0m\u001b[0;34m]\u001b[0m\u001b[0;34m\u001b[0m\u001b[0m\n\u001b[0m\u001b[1;32m      4\u001b[0m     \u001b[0msubjects\u001b[0m\u001b[0;34m[\u001b[0m\u001b[0;34m'reducedPost'\u001b[0m\u001b[0;34m]\u001b[0m \u001b[0;34m=\u001b[0m \u001b[0;34m[\u001b[0m\u001b[0mreducer\u001b[0m\u001b[0;34m(\u001b[0m\u001b[0msubj\u001b[0m\u001b[0;34m,\u001b[0m \u001b[0mFalse\u001b[0m\u001b[0;34m)\u001b[0m \u001b[0;32mfor\u001b[0m \u001b[0msubj\u001b[0m \u001b[0;32min\u001b[0m \u001b[0msubjects\u001b[0m\u001b[0;34m.\u001b[0m\u001b[0mdata\u001b[0m\u001b[0;34m]\u001b[0m\u001b[0;34m\u001b[0m\u001b[0m\n\u001b[1;32m      5\u001b[0m \u001b[0;34m\u001b[0m\u001b[0m\n",
      "\u001b[0;32m<ipython-input-11-77cb1cfdf888>\u001b[0m in \u001b[0;36myeoRSreducer\u001b[0;34m(subj, isPre)\u001b[0m\n\u001b[1;32m      2\u001b[0m \u001b[0;32mdef\u001b[0m \u001b[0myeoRSreducer\u001b[0m\u001b[0;34m(\u001b[0m\u001b[0msubj\u001b[0m\u001b[0;34m,\u001b[0m \u001b[0misPre\u001b[0m\u001b[0;34m=\u001b[0m\u001b[0mTrue\u001b[0m\u001b[0;34m)\u001b[0m\u001b[0;34m:\u001b[0m\u001b[0;34m\u001b[0m\u001b[0m\n\u001b[1;32m      3\u001b[0m     \u001b[0;32mif\u001b[0m \u001b[0misPre\u001b[0m\u001b[0;34m:\u001b[0m\u001b[0;34m\u001b[0m\u001b[0m\n\u001b[0;32m----> 4\u001b[0;31m         \u001b[0;32mreturn\u001b[0m \u001b[0my_rdc\u001b[0m\u001b[0;34m(\u001b[0m\u001b[0msubj\u001b[0m\u001b[0;34m.\u001b[0m\u001b[0mPre_RS\u001b[0m\u001b[0;34m.\u001b[0m\u001b[0mvalues\u001b[0m\u001b[0;34m)\u001b[0m\u001b[0;34m.\u001b[0m\u001b[0mflatten\u001b[0m\u001b[0;34m(\u001b[0m\u001b[0;34m)\u001b[0m\u001b[0;34m\u001b[0m\u001b[0m\n\u001b[0m\u001b[1;32m      5\u001b[0m     \u001b[0;32melse\u001b[0m\u001b[0;34m:\u001b[0m\u001b[0;34m\u001b[0m\u001b[0m\n\u001b[1;32m      6\u001b[0m         \u001b[0;32mreturn\u001b[0m \u001b[0my_rdc\u001b[0m\u001b[0;34m(\u001b[0m\u001b[0msubj\u001b[0m\u001b[0;34m.\u001b[0m\u001b[0mPost_RS\u001b[0m\u001b[0;34m.\u001b[0m\u001b[0mvalues\u001b[0m\u001b[0;34m)\u001b[0m\u001b[0;34m.\u001b[0m\u001b[0mflatten\u001b[0m\u001b[0;34m(\u001b[0m\u001b[0;34m)\u001b[0m\u001b[0;34m\u001b[0m\u001b[0m\n",
      "\u001b[0;32m<ipython-input-1-482979cbec83>\u001b[0m in \u001b[0;36m__call__\u001b[0;34m(self, C)\u001b[0m\n\u001b[1;32m     26\u001b[0m         \u001b[0;32mfor\u001b[0m \u001b[0mi\u001b[0m \u001b[0;32min\u001b[0m \u001b[0mrange\u001b[0m\u001b[0;34m(\u001b[0m\u001b[0mn\u001b[0m\u001b[0;34m)\u001b[0m\u001b[0;34m:\u001b[0m\u001b[0;34m\u001b[0m\u001b[0m\n\u001b[1;32m     27\u001b[0m             \u001b[0;32mfor\u001b[0m \u001b[0mj\u001b[0m \u001b[0;32min\u001b[0m \u001b[0mrange\u001b[0m\u001b[0;34m(\u001b[0m\u001b[0mi\u001b[0m\u001b[0;34m,\u001b[0m\u001b[0mn\u001b[0m\u001b[0;34m)\u001b[0m\u001b[0;34m:\u001b[0m\u001b[0;34m\u001b[0m\u001b[0m\n\u001b[0;32m---> 28\u001b[0;31m                 \u001b[0mc\u001b[0m \u001b[0;34m=\u001b[0m \u001b[0mnp\u001b[0m\u001b[0;34m.\u001b[0m\u001b[0mmean\u001b[0m\u001b[0;34m(\u001b[0m\u001b[0mC\u001b[0m\u001b[0;34m[\u001b[0m\u001b[0mnp\u001b[0m\u001b[0;34m.\u001b[0m\u001b[0mix_\u001b[0m\u001b[0;34m(\u001b[0m\u001b[0mself\u001b[0m\u001b[0;34m.\u001b[0m\u001b[0m_cls\u001b[0m\u001b[0;34m[\u001b[0m\u001b[0mi\u001b[0m\u001b[0;34m]\u001b[0m\u001b[0;34m,\u001b[0m \u001b[0mself\u001b[0m\u001b[0;34m.\u001b[0m\u001b[0m_cls\u001b[0m\u001b[0;34m[\u001b[0m\u001b[0mj\u001b[0m\u001b[0;34m]\u001b[0m\u001b[0;34m)\u001b[0m\u001b[0;34m]\u001b[0m\u001b[0;34m)\u001b[0m\u001b[0;34m\u001b[0m\u001b[0m\n\u001b[0m\u001b[1;32m     29\u001b[0m                 \u001b[0mnew_C\u001b[0m\u001b[0;34m[\u001b[0m\u001b[0mi\u001b[0m\u001b[0;34m,\u001b[0m\u001b[0mj\u001b[0m\u001b[0;34m]\u001b[0m \u001b[0;34m=\u001b[0m \u001b[0mnew_C\u001b[0m\u001b[0;34m[\u001b[0m\u001b[0mj\u001b[0m\u001b[0;34m,\u001b[0m\u001b[0mi\u001b[0m\u001b[0;34m]\u001b[0m \u001b[0;34m=\u001b[0m \u001b[0mc\u001b[0m\u001b[0;34m\u001b[0m\u001b[0m\n\u001b[1;32m     30\u001b[0m \u001b[0;34m\u001b[0m\u001b[0m\n",
      "\u001b[0;31mIndexError\u001b[0m: index 277 is out of bounds for axis 1 with size 274"
     ]
    }
   ],
   "source": [
    "fig = plotSimilarityMatrix(subjects, yeoRSreducer)\n",
    "\n",
    "fig.savefig('DistanceMap_yeoRS.png', dpi=500, transparent=True)"
   ]
  },
  {
   "cell_type": "code",
   "execution_count": null,
   "metadata": {
    "scrolled": true
   },
   "outputs": [],
   "source": [
    "fig = plotSimilarityMatrix(subjects, nullFSreducer)\n",
    "\n",
    "fig.savefig('DistanceMap_naiveFS.png', dpi=500, transparent=True)"
   ]
  },
  {
   "cell_type": "code",
   "execution_count": 17,
   "metadata": {
    "scrolled": true
   },
   "outputs": [
    {
     "data": {
      "image/png": "[encoded data removed]",
      "text/plain": [
       "<matplotlib.figure.Figure at 0x7fb8d16ca690>"
      ]
     },
     "metadata": {},
     "output_type": "display_data"
    }
   ],
   "source": [
    "fig = plotSimilarityMatrix(subjects, clusteringFSreducer)\n",
    "\n",
    "fig.savefig('DistanceMap_clusteredFS.png', dpi=500, transparent=True)"
   ]
  },
  {
   "cell_type": "markdown",
   "metadata": {},
   "source": [
    "## Effect-size-like-stuff"
   ]
  },
  {
   "cell_type": "code",
   "execution_count": 18,
   "metadata": {},
   "outputs": [],
   "source": [
    "reducer = nullFSreducer\n",
    "\n",
    "subjects['reducedPre'] = [reducer(subj, True) for subj in subjects.data]\n",
    "subjects['reducedPost'] = [reducer(subj, False) for subj in subjects.data]"
   ]
  },
  {
   "cell_type": "code",
   "execution_count": 19,
   "metadata": {},
   "outputs": [
    {
     "name": "stdout",
     "output_type": "stream",
     "text": [
      "[     0.          62917.41722203  35689.63431792 ...,   9418.76314382\n",
      "  18603.55662472      0.        ]\n"
     ]
    }
   ],
   "source": [
    "postVariance = np.var(subjects.reducedPost.as_matrix())\n",
    "print postVariance\n",
    "subjects.reducedPost.as_matrix();"
   ]
  },
  {
   "cell_type": "markdown",
   "metadata": {},
   "source": [
    "# Directionality modelling"
   ]
  },
  {
   "cell_type": "code",
   "execution_count": 20,
   "metadata": {},
   "outputs": [],
   "source": [
    "reducer = nullFSreducer\n",
    "\n",
    "subjects['reducedPre'] = [reducer(subj, True) for subj in subjects.data]\n",
    "subjects['reducedPost'] = [reducer(subj, False) for subj in subjects.data]"
   ]
  },
  {
   "cell_type": "code",
   "execution_count": 21,
   "metadata": {},
   "outputs": [
    {
     "data": {
      "text/html": [
       "<div>\n",
       "<style>\n",
       "    .dataframe thead tr:only-child th {\n",
       "        text-align: right;\n",
       "    }\n",
       "\n",
       "    .dataframe thead th {\n",
       "        text-align: left;\n",
       "    }\n",
       "\n",
       "    .dataframe tbody tr th {\n",
       "        vertical-align: top;\n",
       "    }\n",
       "</style>\n",
       "<table border=\"1\" class=\"dataframe\">\n",
       "  <thead>\n",
       "    <tr style=\"text-align: right;\">\n",
       "      <th></th>\n",
       "      <th>folder</th>\n",
       "      <th>data</th>\n",
       "      <th>reducedPre</th>\n",
       "      <th>reducedPost</th>\n",
       "      <th>delta</th>\n",
       "    </tr>\n",
       "  </thead>\n",
       "  <tbody>\n",
       "    <tr>\n",
       "      <th>1</th>\n",
       "      <td>Behavioral-Analyzed-Data/training/1</td>\n",
       "      <td>&lt;__main__.Subject object at 0x7fb8d1e9c890&gt;</td>\n",
       "      <td>[0.0, 411.6548583, 245.835252436, 227.17283950...</td>\n",
       "      <td>[0.0, 438.531027467, 256.727595386, 340.524038...</td>\n",
       "      <td>[0.0, 26.8761691673, 10.8923429502, 113.351198...</td>\n",
       "    </tr>\n",
       "    <tr>\n",
       "      <th>2</th>\n",
       "      <td>Behavioral-Analyzed-Data/training/2</td>\n",
       "      <td>&lt;__main__.Subject object at 0x7fb8c3e06890&gt;</td>\n",
       "      <td>[0.0, 266.594594595, 83.2254616132, 87.4235924...</td>\n",
       "      <td>[0.0, 549.92690678, 86.6288461538, 118.7257844...</td>\n",
       "      <td>[0.0, 283.332312185, 3.40338454063, 31.3021919...</td>\n",
       "    </tr>\n",
       "    <tr>\n",
       "      <th>3</th>\n",
       "      <td>Behavioral-Analyzed-Data/training/3</td>\n",
       "      <td>&lt;__main__.Subject object at 0x7fb8c3df7550&gt;</td>\n",
       "      <td>[0.0, 893.836875359, 209.549833095, 164.518681...</td>\n",
       "      <td>[0.0, 714.309027778, 115.080357143, 120.571847...</td>\n",
       "      <td>[0.0, -179.527847581, -94.469475952, -43.94683...</td>\n",
       "    </tr>\n",
       "    <tr>\n",
       "      <th>4</th>\n",
       "      <td>Behavioral-Analyzed-Data/training/4</td>\n",
       "      <td>&lt;__main__.Subject object at 0x7fb8d1820e90&gt;</td>\n",
       "      <td>[0.0, 370.537787514, 456.880110243, 251.801619...</td>\n",
       "      <td>[0.0, 730.798572157, 511.17877338, 271.5162548...</td>\n",
       "      <td>[0.0, 360.260784643, 54.2986631363, 19.7146354...</td>\n",
       "    </tr>\n",
       "    <tr>\n",
       "      <th>5</th>\n",
       "      <td>Behavioral-Analyzed-Data/training/5</td>\n",
       "      <td>&lt;__main__.Subject object at 0x7fb8d182ba50&gt;</td>\n",
       "      <td>[0.0, 744.692073171, 306.807620818, 136.982681...</td>\n",
       "      <td>[0.0, 702.096537251, 225.512285582, 110.604432...</td>\n",
       "      <td>[0.0, -42.5955359199, -81.295335236, -26.37824...</td>\n",
       "    </tr>\n",
       "  </tbody>\n",
       "</table>\n",
       "</div>"
      ],
      "text/plain": [
       "                                folder  \\\n",
       "1  Behavioral-Analyzed-Data/training/1   \n",
       "2  Behavioral-Analyzed-Data/training/2   \n",
       "3  Behavioral-Analyzed-Data/training/3   \n",
       "4  Behavioral-Analyzed-Data/training/4   \n",
       "5  Behavioral-Analyzed-Data/training/5   \n",
       "\n",
       "                                          data  \\\n",
       "1  <__main__.Subject object at 0x7fb8d1e9c890>   \n",
       "2  <__main__.Subject object at 0x7fb8c3e06890>   \n",
       "3  <__main__.Subject object at 0x7fb8c3df7550>   \n",
       "4  <__main__.Subject object at 0x7fb8d1820e90>   \n",
       "5  <__main__.Subject object at 0x7fb8d182ba50>   \n",
       "\n",
       "                                          reducedPre  \\\n",
       "1  [0.0, 411.6548583, 245.835252436, 227.17283950...   \n",
       "2  [0.0, 266.594594595, 83.2254616132, 87.4235924...   \n",
       "3  [0.0, 893.836875359, 209.549833095, 164.518681...   \n",
       "4  [0.0, 370.537787514, 456.880110243, 251.801619...   \n",
       "5  [0.0, 744.692073171, 306.807620818, 136.982681...   \n",
       "\n",
       "                                         reducedPost  \\\n",
       "1  [0.0, 438.531027467, 256.727595386, 340.524038...   \n",
       "2  [0.0, 549.92690678, 86.6288461538, 118.7257844...   \n",
       "3  [0.0, 714.309027778, 115.080357143, 120.571847...   \n",
       "4  [0.0, 730.798572157, 511.17877338, 271.5162548...   \n",
       "5  [0.0, 702.096537251, 225.512285582, 110.604432...   \n",
       "\n",
       "                                               delta  \n",
       "1  [0.0, 26.8761691673, 10.8923429502, 113.351198...  \n",
       "2  [0.0, 283.332312185, 3.40338454063, 31.3021919...  \n",
       "3  [0.0, -179.527847581, -94.469475952, -43.94683...  \n",
       "4  [0.0, 360.260784643, 54.2986631363, 19.7146354...  \n",
       "5  [0.0, -42.5955359199, -81.295335236, -26.37824...  "
      ]
     },
     "execution_count": 21,
     "metadata": {},
     "output_type": "execute_result"
    }
   ],
   "source": [
    "subjects['delta'] = subjects.reducedPost - subjects.reducedPre\n",
    "subjects.head()"
   ]
  },
  {
   "cell_type": "code",
   "execution_count": 22,
   "metadata": {},
   "outputs": [
    {
     "name": "stdout",
     "output_type": "stream",
     "text": [
      "(6724,)\n",
      "[  0.           5.67110559  26.13523991 ..., -24.7314285  -37.2998799    0.        ]\n"
     ]
    }
   ],
   "source": [
    "meanDelta = np.mean(subjects.delta)\n",
    "print meanDelta.shape\n",
    "print meanDelta"
   ]
  },
  {
   "cell_type": "code",
   "execution_count": 23,
   "metadata": {},
   "outputs": [
    {
     "data": {
      "text/html": [
       "<div>\n",
       "<style>\n",
       "    .dataframe thead tr:only-child th {\n",
       "        text-align: right;\n",
       "    }\n",
       "\n",
       "    .dataframe thead th {\n",
       "        text-align: left;\n",
       "    }\n",
       "\n",
       "    .dataframe tbody tr th {\n",
       "        vertical-align: top;\n",
       "    }\n",
       "</style>\n",
       "<table border=\"1\" class=\"dataframe\">\n",
       "  <thead>\n",
       "    <tr style=\"text-align: right;\">\n",
       "      <th></th>\n",
       "      <th>folder</th>\n",
       "      <th>data</th>\n",
       "      <th>reducedPre</th>\n",
       "      <th>reducedPost</th>\n",
       "      <th>delta</th>\n",
       "      <th>forecastedPost</th>\n",
       "    </tr>\n",
       "  </thead>\n",
       "  <tbody>\n",
       "    <tr>\n",
       "      <th>1</th>\n",
       "      <td>Behavioral-Analyzed-Data/training/1</td>\n",
       "      <td>&lt;__main__.Subject object at 0x7fb8d1e9c890&gt;</td>\n",
       "      <td>[0.0, 411.6548583, 245.835252436, 227.17283950...</td>\n",
       "      <td>[0.0, 438.531027467, 256.727595386, 340.524038...</td>\n",
       "      <td>[0.0, 26.8761691673, 10.8923429502, 113.351198...</td>\n",
       "      <td>[0.0, 417.325963887, 271.970492344, 253.084212...</td>\n",
       "    </tr>\n",
       "    <tr>\n",
       "      <th>2</th>\n",
       "      <td>Behavioral-Analyzed-Data/training/2</td>\n",
       "      <td>&lt;__main__.Subject object at 0x7fb8c3e06890&gt;</td>\n",
       "      <td>[0.0, 266.594594595, 83.2254616132, 87.4235924...</td>\n",
       "      <td>[0.0, 549.92690678, 86.6288461538, 118.7257844...</td>\n",
       "      <td>[0.0, 283.332312185, 3.40338454063, 31.3021919...</td>\n",
       "      <td>[0.0, 272.265700182, 109.360701521, 113.334965...</td>\n",
       "    </tr>\n",
       "    <tr>\n",
       "      <th>3</th>\n",
       "      <td>Behavioral-Analyzed-Data/training/3</td>\n",
       "      <td>&lt;__main__.Subject object at 0x7fb8c3df7550&gt;</td>\n",
       "      <td>[0.0, 893.836875359, 209.549833095, 164.518681...</td>\n",
       "      <td>[0.0, 714.309027778, 115.080357143, 120.571847...</td>\n",
       "      <td>[0.0, -179.527847581, -94.469475952, -43.94683...</td>\n",
       "      <td>[0.0, 899.507980946, 235.685073003, 190.430054...</td>\n",
       "    </tr>\n",
       "    <tr>\n",
       "      <th>4</th>\n",
       "      <td>Behavioral-Analyzed-Data/training/4</td>\n",
       "      <td>&lt;__main__.Subject object at 0x7fb8d1820e90&gt;</td>\n",
       "      <td>[0.0, 370.537787514, 456.880110243, 251.801619...</td>\n",
       "      <td>[0.0, 730.798572157, 511.17877338, 271.5162548...</td>\n",
       "      <td>[0.0, 360.260784643, 54.2986631363, 19.7146354...</td>\n",
       "      <td>[0.0, 376.208893101, 483.015350152, 277.712992...</td>\n",
       "    </tr>\n",
       "    <tr>\n",
       "      <th>5</th>\n",
       "      <td>Behavioral-Analyzed-Data/training/5</td>\n",
       "      <td>&lt;__main__.Subject object at 0x7fb8d182ba50&gt;</td>\n",
       "      <td>[0.0, 744.692073171, 306.807620818, 136.982681...</td>\n",
       "      <td>[0.0, 702.096537251, 225.512285582, 110.604432...</td>\n",
       "      <td>[0.0, -42.5955359199, -81.295335236, -26.37824...</td>\n",
       "      <td>[0.0, 750.363178758, 332.942860726, 162.894054...</td>\n",
       "    </tr>\n",
       "  </tbody>\n",
       "</table>\n",
       "</div>"
      ],
      "text/plain": [
       "                                folder  \\\n",
       "1  Behavioral-Analyzed-Data/training/1   \n",
       "2  Behavioral-Analyzed-Data/training/2   \n",
       "3  Behavioral-Analyzed-Data/training/3   \n",
       "4  Behavioral-Analyzed-Data/training/4   \n",
       "5  Behavioral-Analyzed-Data/training/5   \n",
       "\n",
       "                                          data  \\\n",
       "1  <__main__.Subject object at 0x7fb8d1e9c890>   \n",
       "2  <__main__.Subject object at 0x7fb8c3e06890>   \n",
       "3  <__main__.Subject object at 0x7fb8c3df7550>   \n",
       "4  <__main__.Subject object at 0x7fb8d1820e90>   \n",
       "5  <__main__.Subject object at 0x7fb8d182ba50>   \n",
       "\n",
       "                                          reducedPre  \\\n",
       "1  [0.0, 411.6548583, 245.835252436, 227.17283950...   \n",
       "2  [0.0, 266.594594595, 83.2254616132, 87.4235924...   \n",
       "3  [0.0, 893.836875359, 209.549833095, 164.518681...   \n",
       "4  [0.0, 370.537787514, 456.880110243, 251.801619...   \n",
       "5  [0.0, 744.692073171, 306.807620818, 136.982681...   \n",
       "\n",
       "                                         reducedPost  \\\n",
       "1  [0.0, 438.531027467, 256.727595386, 340.524038...   \n",
       "2  [0.0, 549.92690678, 86.6288461538, 118.7257844...   \n",
       "3  [0.0, 714.309027778, 115.080357143, 120.571847...   \n",
       "4  [0.0, 730.798572157, 511.17877338, 271.5162548...   \n",
       "5  [0.0, 702.096537251, 225.512285582, 110.604432...   \n",
       "\n",
       "                                               delta  \\\n",
       "1  [0.0, 26.8761691673, 10.8923429502, 113.351198...   \n",
       "2  [0.0, 283.332312185, 3.40338454063, 31.3021919...   \n",
       "3  [0.0, -179.527847581, -94.469475952, -43.94683...   \n",
       "4  [0.0, 360.260784643, 54.2986631363, 19.7146354...   \n",
       "5  [0.0, -42.5955359199, -81.295335236, -26.37824...   \n",
       "\n",
       "                                      forecastedPost  \n",
       "1  [0.0, 417.325963887, 271.970492344, 253.084212...  \n",
       "2  [0.0, 272.265700182, 109.360701521, 113.334965...  \n",
       "3  [0.0, 899.507980946, 235.685073003, 190.430054...  \n",
       "4  [0.0, 376.208893101, 483.015350152, 277.712992...  \n",
       "5  [0.0, 750.363178758, 332.942860726, 162.894054...  "
      ]
     },
     "execution_count": 23,
     "metadata": {},
     "output_type": "execute_result"
    }
   ],
   "source": [
    "subjects['forecastedPost'] = subjects.reducedPre + meanDelta\n",
    "subjects.head()"
   ]
  },
  {
   "cell_type": "code",
   "execution_count": 24,
   "metadata": {},
   "outputs": [
    {
     "data": {
      "image/png": "[encoded data removed]",
      "text/plain": [
       "<matplotlib.figure.Figure at 0x7fb8c26d1a50>"
      ]
     },
     "metadata": {},
     "output_type": "display_data"
    }
   ],
   "source": [
    "dirMatrix = np.zeros([len(subjects), len(subjects) + 3])\n",
    "for i, post in subjects.reducedPost.iteritems():\n",
    "    # For each post scan\n",
    "    for j, otherpost in subjects.reducedPost.iteritems():\n",
    "        # How similar is it to each pre scan\n",
    "        dirMatrix[i-1, j-1] = dist_func(post, otherpost)\n",
    "    \n",
    "    # How similar is it to its own pre scan?\n",
    "    dirMatrix[i-1,-1] = dist_func(subjects.forecastedPost[i], post)\n",
    "    # How similar is it to the prediction?\n",
    "    dirMatrix[i-1,-2] = dist_func(subjects.reducedPre[i], post)\n",
    "    \n",
    "    dirMatrix[i-1,-3] = float('nan')\n",
    "\n",
    "dirMatrix /= np.nanmax(dirMatrix)\n",
    "\n",
    "cax = plt.matshow(dirMatrix)\n",
    "\n",
    "plt.colorbar(cax)\n",
    "# plt.title('Correlation between incomming and outgoing scans')\n",
    "plt.xlabel('Other Post subject')\n",
    "plt.ylabel('Post subject')\n",
    "\n",
    "plt.savefig('DirectionMap.png', dpi=500, transparent=True)"
   ]
  },
  {
   "cell_type": "markdown",
   "metadata": {},
   "source": [
    "# Better ML stuff"
   ]
  },
  {
   "cell_type": "code",
   "execution_count": 25,
   "metadata": {},
   "outputs": [],
   "source": [
    "from sklearn import svm"
   ]
  },
  {
   "cell_type": "code",
   "execution_count": 26,
   "metadata": {},
   "outputs": [],
   "source": [
    "reducer = nullFSreducer\n",
    "\n",
    "subjects['reducedPre'] = [reducer(subj, True) for subj in subjects.data]\n",
    "subjects['reducedPost'] = [reducer(subj, False) for subj in subjects.data]"
   ]
  },
  {
   "cell_type": "code",
   "execution_count": 27,
   "metadata": {},
   "outputs": [
    {
     "data": {
      "text/html": [
       "<div>\n",
       "<style>\n",
       "    .dataframe thead tr:only-child th {\n",
       "        text-align: right;\n",
       "    }\n",
       "\n",
       "    .dataframe thead th {\n",
       "        text-align: left;\n",
       "    }\n",
       "\n",
       "    .dataframe tbody tr th {\n",
       "        vertical-align: top;\n",
       "    }\n",
       "</style>\n",
       "<table border=\"1\" class=\"dataframe\">\n",
       "  <thead>\n",
       "    <tr style=\"text-align: right;\">\n",
       "      <th></th>\n",
       "      <th>data</th>\n",
       "      <th>subject</th>\n",
       "      <th>time</th>\n",
       "    </tr>\n",
       "    <tr>\n",
       "      <th>subject</th>\n",
       "      <th></th>\n",
       "      <th></th>\n",
       "      <th></th>\n",
       "    </tr>\n",
       "  </thead>\n",
       "  <tbody>\n",
       "    <tr>\n",
       "      <th>1</th>\n",
       "      <td>[0.0, 411.6548583, 245.835252436, 227.17283950...</td>\n",
       "      <td>1</td>\n",
       "      <td>Pre</td>\n",
       "    </tr>\n",
       "    <tr>\n",
       "      <th>1</th>\n",
       "      <td>[0.0, 438.531027467, 256.727595386, 340.524038...</td>\n",
       "      <td>1</td>\n",
       "      <td>Post</td>\n",
       "    </tr>\n",
       "    <tr>\n",
       "      <th>2</th>\n",
       "      <td>[0.0, 266.594594595, 83.2254616132, 87.4235924...</td>\n",
       "      <td>2</td>\n",
       "      <td>Pre</td>\n",
       "    </tr>\n",
       "    <tr>\n",
       "      <th>2</th>\n",
       "      <td>[0.0, 549.92690678, 86.6288461538, 118.7257844...</td>\n",
       "      <td>2</td>\n",
       "      <td>Post</td>\n",
       "    </tr>\n",
       "    <tr>\n",
       "      <th>3</th>\n",
       "      <td>[0.0, 893.836875359, 209.549833095, 164.518681...</td>\n",
       "      <td>3</td>\n",
       "      <td>Pre</td>\n",
       "    </tr>\n",
       "  </tbody>\n",
       "</table>\n",
       "</div>"
      ],
      "text/plain": [
       "                                                      data  subject  time\n",
       "subject                                                                  \n",
       "1        [0.0, 411.6548583, 245.835252436, 227.17283950...        1   Pre\n",
       "1        [0.0, 438.531027467, 256.727595386, 340.524038...        1  Post\n",
       "2        [0.0, 266.594594595, 83.2254616132, 87.4235924...        2   Pre\n",
       "2        [0.0, 549.92690678, 86.6288461538, 118.7257844...        2  Post\n",
       "3        [0.0, 893.836875359, 209.549833095, 164.518681...        3   Pre"
      ]
     },
     "execution_count": 27,
     "metadata": {},
     "output_type": "execute_result"
    }
   ],
   "source": [
    "svmTraining = pd.DataFrame()\n",
    "\n",
    "svmTraining = svmTraining.append(pd.DataFrame({\n",
    "    'data':subjects.reducedPre, \n",
    "    'time':'Pre', \n",
    "    'subject':subjects.index}))\n",
    "\n",
    "svmTraining = svmTraining.append(pd.DataFrame({\n",
    "    'data':subjects.reducedPost, \n",
    "    'time':'Post', \n",
    "    'subject':subjects.index}))\n",
    "\n",
    "svmTraining.index = svmTraining.subject\n",
    "svmTraining.sort_index(inplace=True)\n",
    "\n",
    "svmTraining.head()"
   ]
  },
  {
   "cell_type": "code",
   "execution_count": 28,
   "metadata": {},
   "outputs": [
    {
     "data": {
      "text/plain": [
       "SVC(C=1.0, cache_size=200, class_weight=None, coef0=0.0,\n",
       "  decision_function_shape='ovr', degree=3, gamma='auto', kernel='rbf',\n",
       "  max_iter=-1, probability=False, random_state=None, shrinking=True,\n",
       "  tol=0.001, verbose=False)"
      ]
     },
     "execution_count": 28,
     "metadata": {},
     "output_type": "execute_result"
    }
   ],
   "source": [
    "classifier = svm.SVC()\n",
    "\n",
    "classifier.fit(np.stack(svmTraining.data.values), svmTraining.time.values)"
   ]
  },
  {
   "cell_type": "markdown",
   "metadata": {},
   "source": [
    "## Validation"
   ]
  },
  {
   "cell_type": "code",
   "execution_count": 29,
   "metadata": {},
   "outputs": [
    {
     "data": {
      "text/html": [
       "<div>\n",
       "<style>\n",
       "    .dataframe thead tr:only-child th {\n",
       "        text-align: right;\n",
       "    }\n",
       "\n",
       "    .dataframe thead th {\n",
       "        text-align: left;\n",
       "    }\n",
       "\n",
       "    .dataframe tbody tr th {\n",
       "        vertical-align: top;\n",
       "    }\n",
       "</style>\n",
       "<table border=\"1\" class=\"dataframe\">\n",
       "  <thead>\n",
       "    <tr style=\"text-align: right;\">\n",
       "      <th></th>\n",
       "      <th>folder</th>\n",
       "      <th>data</th>\n",
       "    </tr>\n",
       "  </thead>\n",
       "  <tbody>\n",
       "    <tr>\n",
       "      <th>21</th>\n",
       "      <td>Behavioral-Analyzed-Data/validation/21</td>\n",
       "      <td>&lt;__main__.Subject object at 0x7fb8c2610310&gt;</td>\n",
       "    </tr>\n",
       "    <tr>\n",
       "      <th>22</th>\n",
       "      <td>Behavioral-Analyzed-Data/validation/22</td>\n",
       "      <td>&lt;__main__.Subject object at 0x7fb8ba749ed0&gt;</td>\n",
       "    </tr>\n",
       "    <tr>\n",
       "      <th>23</th>\n",
       "      <td>Behavioral-Analyzed-Data/validation/23</td>\n",
       "      <td>&lt;__main__.Subject object at 0x7fb8ba761690&gt;</td>\n",
       "    </tr>\n",
       "    <tr>\n",
       "      <th>24</th>\n",
       "      <td>Behavioral-Analyzed-Data/validation/24</td>\n",
       "      <td>&lt;__main__.Subject object at 0x7fb8ba771f90&gt;</td>\n",
       "    </tr>\n",
       "    <tr>\n",
       "      <th>25</th>\n",
       "      <td>Behavioral-Analyzed-Data/validation/25</td>\n",
       "      <td>&lt;__main__.Subject object at 0x7fb8ba76ec90&gt;</td>\n",
       "    </tr>\n",
       "  </tbody>\n",
       "</table>\n",
       "</div>"
      ],
      "text/plain": [
       "                                    folder  \\\n",
       "21  Behavioral-Analyzed-Data/validation/21   \n",
       "22  Behavioral-Analyzed-Data/validation/22   \n",
       "23  Behavioral-Analyzed-Data/validation/23   \n",
       "24  Behavioral-Analyzed-Data/validation/24   \n",
       "25  Behavioral-Analyzed-Data/validation/25   \n",
       "\n",
       "                                           data  \n",
       "21  <__main__.Subject object at 0x7fb8c2610310>  \n",
       "22  <__main__.Subject object at 0x7fb8ba749ed0>  \n",
       "23  <__main__.Subject object at 0x7fb8ba761690>  \n",
       "24  <__main__.Subject object at 0x7fb8ba771f90>  \n",
       "25  <__main__.Subject object at 0x7fb8ba76ec90>  "
      ]
     },
     "execution_count": 29,
     "metadata": {},
     "output_type": "execute_result"
    }
   ],
   "source": [
    "testingSubjects = loadData('validation')\n",
    "testingSubjects"
   ]
  },
  {
   "cell_type": "code",
   "execution_count": 30,
   "metadata": {},
   "outputs": [],
   "source": [
    "reducer = nullFSreducer\n",
    "\n",
    "testingSubjects['reducedPre'] = [reducer(subj, True) for subj in testingSubjects.data]\n",
    "testingSubjects['reducedPost'] = [reducer(subj, False) for subj in testingSubjects.data]"
   ]
  },
  {
   "cell_type": "code",
   "execution_count": 31,
   "metadata": {},
   "outputs": [
    {
     "data": {
      "text/html": [
       "<div>\n",
       "<style>\n",
       "    .dataframe thead tr:only-child th {\n",
       "        text-align: right;\n",
       "    }\n",
       "\n",
       "    .dataframe thead th {\n",
       "        text-align: left;\n",
       "    }\n",
       "\n",
       "    .dataframe tbody tr th {\n",
       "        vertical-align: top;\n",
       "    }\n",
       "</style>\n",
       "<table border=\"1\" class=\"dataframe\">\n",
       "  <thead>\n",
       "    <tr style=\"text-align: right;\">\n",
       "      <th></th>\n",
       "      <th>data</th>\n",
       "      <th>subject</th>\n",
       "      <th>time</th>\n",
       "    </tr>\n",
       "    <tr>\n",
       "      <th>subject</th>\n",
       "      <th></th>\n",
       "      <th></th>\n",
       "      <th></th>\n",
       "    </tr>\n",
       "  </thead>\n",
       "  <tbody>\n",
       "    <tr>\n",
       "      <th>21</th>\n",
       "      <td>[0.0, 939.293567251, 157.410311493, 158.593846...</td>\n",
       "      <td>21</td>\n",
       "      <td>Pre</td>\n",
       "    </tr>\n",
       "    <tr>\n",
       "      <th>21</th>\n",
       "      <td>[0.0, 676.37366548, 266.275442478, 407.6319391...</td>\n",
       "      <td>21</td>\n",
       "      <td>Post</td>\n",
       "    </tr>\n",
       "    <tr>\n",
       "      <th>22</th>\n",
       "      <td>[0.0, 927.58819914, 286.070974576, 122.7603423...</td>\n",
       "      <td>22</td>\n",
       "      <td>Pre</td>\n",
       "    </tr>\n",
       "    <tr>\n",
       "      <th>22</th>\n",
       "      <td>[0.0, 590.655083655, 322.294794521, 179.655849...</td>\n",
       "      <td>22</td>\n",
       "      <td>Post</td>\n",
       "    </tr>\n",
       "    <tr>\n",
       "      <th>23</th>\n",
       "      <td>[0.0, 410.171369933, 358.997764864, 242.333742...</td>\n",
       "      <td>23</td>\n",
       "      <td>Pre</td>\n",
       "    </tr>\n",
       "  </tbody>\n",
       "</table>\n",
       "</div>"
      ],
      "text/plain": [
       "                                                      data  subject  time\n",
       "subject                                                                  \n",
       "21       [0.0, 939.293567251, 157.410311493, 158.593846...       21   Pre\n",
       "21       [0.0, 676.37366548, 266.275442478, 407.6319391...       21  Post\n",
       "22       [0.0, 927.58819914, 286.070974576, 122.7603423...       22   Pre\n",
       "22       [0.0, 590.655083655, 322.294794521, 179.655849...       22  Post\n",
       "23       [0.0, 410.171369933, 358.997764864, 242.333742...       23   Pre"
      ]
     },
     "execution_count": 31,
     "metadata": {},
     "output_type": "execute_result"
    }
   ],
   "source": [
    "svmTesting = pd.DataFrame()\n",
    "\n",
    "svmTesting = svmTesting.append(pd.DataFrame({\n",
    "    'data':testingSubjects.reducedPre, \n",
    "    'time':'Pre', \n",
    "    'subject':testingSubjects.index}))\n",
    "\n",
    "svmTesting = svmTesting.append(pd.DataFrame({\n",
    "    'data':testingSubjects.reducedPost, \n",
    "    'time':'Post', \n",
    "    'subject':testingSubjects.index}))\n",
    "\n",
    "svmTesting.index = svmTesting.subject\n",
    "svmTesting.sort_index(inplace=True)\n",
    "\n",
    "svmTesting.head()"
   ]
  },
  {
   "cell_type": "code",
   "execution_count": 32,
   "metadata": {},
   "outputs": [
    {
     "name": "stdout",
     "output_type": "stream",
     "text": [
      "Success rate: 5 / 10\n"
     ]
    },
    {
     "data": {
      "text/html": [
       "<div>\n",
       "<style>\n",
       "    .dataframe thead tr:only-child th {\n",
       "        text-align: right;\n",
       "    }\n",
       "\n",
       "    .dataframe thead th {\n",
       "        text-align: left;\n",
       "    }\n",
       "\n",
       "    .dataframe tbody tr th {\n",
       "        vertical-align: top;\n",
       "    }\n",
       "</style>\n",
       "<table border=\"1\" class=\"dataframe\">\n",
       "  <thead>\n",
       "    <tr style=\"text-align: right;\">\n",
       "      <th></th>\n",
       "      <th>data</th>\n",
       "      <th>subject</th>\n",
       "      <th>time</th>\n",
       "      <th>results</th>\n",
       "    </tr>\n",
       "    <tr>\n",
       "      <th>subject</th>\n",
       "      <th></th>\n",
       "      <th></th>\n",
       "      <th></th>\n",
       "      <th></th>\n",
       "    </tr>\n",
       "  </thead>\n",
       "  <tbody>\n",
       "    <tr>\n",
       "      <th>21</th>\n",
       "      <td>[0.0, 939.293567251, 157.410311493, 158.593846...</td>\n",
       "      <td>21</td>\n",
       "      <td>Pre</td>\n",
       "      <td>Pre</td>\n",
       "    </tr>\n",
       "    <tr>\n",
       "      <th>21</th>\n",
       "      <td>[0.0, 676.37366548, 266.275442478, 407.6319391...</td>\n",
       "      <td>21</td>\n",
       "      <td>Post</td>\n",
       "      <td>Pre</td>\n",
       "    </tr>\n",
       "    <tr>\n",
       "      <th>22</th>\n",
       "      <td>[0.0, 927.58819914, 286.070974576, 122.7603423...</td>\n",
       "      <td>22</td>\n",
       "      <td>Pre</td>\n",
       "      <td>Pre</td>\n",
       "    </tr>\n",
       "    <tr>\n",
       "      <th>22</th>\n",
       "      <td>[0.0, 590.655083655, 322.294794521, 179.655849...</td>\n",
       "      <td>22</td>\n",
       "      <td>Post</td>\n",
       "      <td>Pre</td>\n",
       "    </tr>\n",
       "    <tr>\n",
       "      <th>23</th>\n",
       "      <td>[0.0, 410.171369933, 358.997764864, 242.333742...</td>\n",
       "      <td>23</td>\n",
       "      <td>Pre</td>\n",
       "      <td>Pre</td>\n",
       "    </tr>\n",
       "    <tr>\n",
       "      <th>23</th>\n",
       "      <td>[0.0, 357.720506329, 275.139726027, 78.8490797...</td>\n",
       "      <td>23</td>\n",
       "      <td>Post</td>\n",
       "      <td>Pre</td>\n",
       "    </tr>\n",
       "    <tr>\n",
       "      <th>24</th>\n",
       "      <td>[0.0, 724.774765895, 231.091948547, 81.7799752...</td>\n",
       "      <td>24</td>\n",
       "      <td>Pre</td>\n",
       "      <td>Pre</td>\n",
       "    </tr>\n",
       "    <tr>\n",
       "      <th>24</th>\n",
       "      <td>[0.0, 311.267634855, 221.28705999, 156.3839285...</td>\n",
       "      <td>24</td>\n",
       "      <td>Post</td>\n",
       "      <td>Pre</td>\n",
       "    </tr>\n",
       "    <tr>\n",
       "      <th>25</th>\n",
       "      <td>[0.0, 318.1621881, 196.469758065, 150.20328667...</td>\n",
       "      <td>25</td>\n",
       "      <td>Pre</td>\n",
       "      <td>Pre</td>\n",
       "    </tr>\n",
       "    <tr>\n",
       "      <th>25</th>\n",
       "      <td>[0.0, 276.740740741, 394.798334875, 179.197360...</td>\n",
       "      <td>25</td>\n",
       "      <td>Post</td>\n",
       "      <td>Pre</td>\n",
       "    </tr>\n",
       "  </tbody>\n",
       "</table>\n",
       "</div>"
      ],
      "text/plain": [
       "                                                      data  subject  time  \\\n",
       "subject                                                                     \n",
       "21       [0.0, 939.293567251, 157.410311493, 158.593846...       21   Pre   \n",
       "21       [0.0, 676.37366548, 266.275442478, 407.6319391...       21  Post   \n",
       "22       [0.0, 927.58819914, 286.070974576, 122.7603423...       22   Pre   \n",
       "22       [0.0, 590.655083655, 322.294794521, 179.655849...       22  Post   \n",
       "23       [0.0, 410.171369933, 358.997764864, 242.333742...       23   Pre   \n",
       "23       [0.0, 357.720506329, 275.139726027, 78.8490797...       23  Post   \n",
       "24       [0.0, 724.774765895, 231.091948547, 81.7799752...       24   Pre   \n",
       "24       [0.0, 311.267634855, 221.28705999, 156.3839285...       24  Post   \n",
       "25       [0.0, 318.1621881, 196.469758065, 150.20328667...       25   Pre   \n",
       "25       [0.0, 276.740740741, 394.798334875, 179.197360...       25  Post   \n",
       "\n",
       "        results  \n",
       "subject          \n",
       "21          Pre  \n",
       "21          Pre  \n",
       "22          Pre  \n",
       "22          Pre  \n",
       "23          Pre  \n",
       "23          Pre  \n",
       "24          Pre  \n",
       "24          Pre  \n",
       "25          Pre  \n",
       "25          Pre  "
      ]
     },
     "execution_count": 32,
     "metadata": {},
     "output_type": "execute_result"
    }
   ],
   "source": [
    "svmTesting['results'] = classifier.predict(np.stack(svmTesting.data.values))\n",
    "\n",
    "print \"Success rate: {} / {}\".format(\n",
    "    np.count_nonzero(svmTesting.time == svmTesting.results),\n",
    "    len(svmTesting.time))\n",
    "\n",
    "svmTesting"
   ]
  },
  {
   "cell_type": "code",
   "execution_count": null,
   "metadata": {},
   "outputs": [],
   "source": []
  }
 ],
 "metadata": {
  "kernelspec": {
   "display_name": "Python 2",
   "language": "python",
   "name": "python2"
  },
  "language_info": {
   "codemirror_mode": {
    "name": "ipython",
    "version": 2
   },
   "file_extension": ".py",
   "mimetype": "text/x-python",
   "name": "python",
   "nbconvert_exporter": "python",
   "pygments_lexer": "ipython2",
   "version": "2.7.12"
  }
 },
 "nbformat": 4,
 "nbformat_minor": 2
}
