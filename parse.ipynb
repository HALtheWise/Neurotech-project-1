{
 "cells": [
  {
   "cell_type": "markdown",
   "metadata": {},
   "source": [
    "#Loading Data"
   ]
  },
  {
   "cell_type": "code",
   "execution_count": 7,
   "metadata": {},
   "outputs": [],
   "source": [
    "# Import stuff\n",
    "import numpy as np\n",
    "import pandas as pd\n",
    "import os"
   ]
  },
  {
   "cell_type": "code",
   "execution_count": 32,
   "metadata": {},
   "outputs": [],
   "source": [
    "#subj = 1\n",
    "#root = 'Behavioral-Analyzed-Data'\n",
    "#data_type = 'training'\n",
    "def parse(root='Behavioral-Analyzed-Data', data_type='training', subj=1):\n",
    "    folder = os.path.join(root,data_type, str(subj))\n",
    "\n",
    "    data_map = {\n",
    "        'Task_CD' : \"ChangeDetectionTask_Subject%d.csv\",\n",
    "        'Task_MITRE' : \"MITRE_ItemLevel_Subject%d.csv\" ,\n",
    "        'Post_RS' : \"Post_RestingState_FunctionalConn_res4dtempfilt_Subject%d.csv\",\n",
    "        'Post_FS' : \"Post_Structconn82_VolumeWeighted_headers_Subject%d.csv\",\n",
    "        'Pre_RS' : \"Pre_RestingState_FunctionalConn_res4dtempfilt_Subject%d.csv\",\n",
    "        'Pre_FS' : \"Pre_Structconn82_VolumeWeighted_headers_Subject%d.csv\",\n",
    "        'Test' : \"TestingData_Subject%d.csv\",\n",
    "        'Task_VS' : \"VisuoSpatialTask_Subject%d.csv\",\n",
    "    }\n",
    "    # RS headers don't exist\n",
    "    data = {k:pd.read_csv(os.path.join(folder,v%subj), header=(None if 'RS' in k else 'infer')) for (k,v) in data_map.iteritems()}\n",
    "    #data = pd.DataFrame.from_dict(data)\n",
    "    return data"
   ]
  },
  {
   "cell_type": "code",
   "execution_count": 33,
   "metadata": {},
   "outputs": [],
   "source": [
    "data = parse()"
   ]
  },
  {
   "cell_type": "code",
   "execution_count": null,
   "metadata": {},
   "outputs": [],
   "source": []
  }
 ],
 "metadata": {
  "kernelspec": {
   "display_name": "Python 2",
   "language": "python",
   "name": "python2"
  },
  "language_info": {
   "codemirror_mode": {
    "name": "ipython",
    "version": 2
   },
   "file_extension": ".py",
   "mimetype": "text/x-python",
   "name": "python",
   "nbconvert_exporter": "python",
   "pygments_lexer": "ipython2",
   "version": "2.7.12"
  }
 },
 "nbformat": 4,
 "nbformat_minor": 2
}
