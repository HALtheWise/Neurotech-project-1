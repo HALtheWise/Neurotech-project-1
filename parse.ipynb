{
 "cells": [
  {
   "cell_type": "markdown",
   "metadata": {},
   "source": [
    "#Loading Data"
   ]
  },
  {
   "cell_type": "code",
   "execution_count": 1,
   "metadata": {},
   "outputs": [],
   "source": [
    "# Import stuff\n",
    "import numpy as np\n",
    "import pandas as pd\n",
    "import os"
   ]
  },
  {
   "cell_type": "code",
   "execution_count": 2,
   "metadata": {},
   "outputs": [],
   "source": [
    "#subj = 1\n",
    "#root = 'Behavioral-Analyzed-Data'\n",
    "#data_type = 'training'\n",
    "def parse(root='Behavioral-Analyzed-Data', data_type='training', subj=1):\n",
    "    folder = os.path.join(root,data_type, str(subj))\n",
    "\n",
    "    data_map = {\n",
    "        'Task_CD' : \"ChangeDetectionTask_Subject%d.csv\",\n",
    "        'Task_MITRE' : \"MITRE_ItemLevel_Subject%d.csv\" ,\n",
    "        'Post_RS' : \"Post_RestingState_FunctionalConn_res4dtempfilt_Subject%d.csv\",\n",
    "        'Post_FS' : \"Post_Structconn82_VolumeWeighted_headers_Subject%d.csv\",\n",
    "        'Pre_RS' : \"Pre_RestingState_FunctionalConn_res4dtempfilt_Subject%d.csv\",\n",
    "        'Pre_FS' : \"Pre_Structconn82_VolumeWeighted_headers_Subject%d.csv\",\n",
    "        'Test' : \"TestingData_Subject%d.csv\",\n",
    "        'Task_VS' : \"VisuoSpatialTask_Subject%d.csv\",\n",
    "    }\n",
    "    # RS headers don't exist\n",
    "    data = {k:pd.read_csv(os.path.join(folder,v%subj), header=(None if 'RS' in k else 'infer')) for (k,v) in data_map.iteritems()}\n",
    "    #data = pd.DataFrame.from_dict(data)\n",
    "    return data"
   ]
  },
  {
   "cell_type": "code",
   "execution_count": 5,
   "metadata": {},
   "outputs": [],
   "source": [
    "class Subject(object):\n",
    "    def __init__(self, data):\n",
    "        # Resting state correlation\n",
    "        self.Pre_RS = data['Pre_RS']\n",
    "        self.Post_RS = data['Post_RS']\n",
    "        \n",
    "        self.Pre_RS.drop(0, axis=0, inplace=True)\n",
    "        self.Pre_RS.drop(0, axis=1, inplace=True)\n",
    "        \n",
    "        # Structural connectivity\n",
    "        self.Pre_FS = data['Pre_FS']\n",
    "        self.Post_FS = data['Post_FS']\n",
    "        \n",
    "        self.Pre_FS.index = self.Pre_FS.columns\n",
    "        self.Post_FS.index = self.Post_FS.columns\n",
    "        \n",
    "\n",
    "def doparse(subj, data_type = 'training'):\n",
    "    d = parse(subj=subj, data_type=data_type)\n",
    "    return Subject(d)"
   ]
  },
  {
   "cell_type": "code",
   "execution_count": 3,
   "metadata": {},
   "outputs": [],
   "source": [
    "data = parse()"
   ]
  },
  {
   "cell_type": "code",
   "execution_count": null,
   "metadata": {},
   "outputs": [],
   "source": []
  }
 ],
 "metadata": {
  "kernelspec": {
   "display_name": "Python 2",
   "language": "python",
   "name": "python2"
  },
  "language_info": {
   "codemirror_mode": {
    "name": "ipython",
    "version": 2
   },
   "file_extension": ".py",
   "mimetype": "text/x-python",
   "name": "python",
   "nbconvert_exporter": "python",
   "pygments_lexer": "ipython2",
   "version": "2.7.12"
  }
 },
 "nbformat": 4,
 "nbformat_minor": 2
}
